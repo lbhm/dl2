{
 "cells": [
  {
   "cell_type": "code",
   "execution_count": null,
   "id": "820aaf6d-cd57-4dd6-9db0-a2da5eb54ffa",
   "metadata": {},
   "outputs": [],
   "source": [
    "import glob\n",
    "import json"
   ]
  },
  {
   "cell_type": "markdown",
   "id": "6cc9ca6b-f53a-4f4d-b0d9-56fb31b7b138",
   "metadata": {},
   "source": [
    "# Data Preparation"
   ]
  },
  {
   "cell_type": "code",
   "execution_count": null,
   "id": "4875b675-3148-430d-baef-64ca3c460265",
   "metadata": {},
   "outputs": [],
   "source": [
    "files = glob.glob(\"../logs/h5/*/*.json\")\n",
    "experiments = []\n",
    "data = {}"
   ]
  },
  {
   "cell_type": "code",
   "execution_count": null,
   "id": "b6283c8e-3a22-415c-a80a-8dda9e27e792",
   "metadata": {},
   "outputs": [],
   "source": [
    "for file in files:\n",
    "    dir_name, file_name = file.split(\"/\")[-2:]\n",
    "    exp_name = \"-\".join(dir_name.split(\"-\")[:3])\n",
    "    if \"cuda\" in file_name:\n",
    "        exp_name += \"-cuda\"\n",
    "    if \"full_dataset\" in file_name:\n",
    "        exp_name += \"-full\"\n",
    "        \n",
    "    if exp_name not in experiments:\n",
    "        experiments.append(exp_name)\n",
    "        data[exp_name] = {}\n",
    "    with open(file, \"r\") as f:\n",
    "        if \"-10\" in dir_name or \"-1\" in dir_name or \"-0.1\" in dir_name:\n",
    "            data[exp_name][\"low\"] = json.load(f)\n",
    "        elif \"-50\" in dir_name or \"-3\" in dir_name or \"-4\" in dir_name or \"-0.05\" in dir_name:\n",
    "            data[exp_name][\"med\"] = json.load(f)\n",
    "        elif \"-85\" in dir_name or \"-6\" in dir_name or \"-8\" in dir_name or \"-0.01\" in dir_name:\n",
    "            data[exp_name][\"high\"] = json.load(f)\n",
    "        else:\n",
    "            raise ValueError(f\"{dir_name} does not fit naming scheme.\")"
   ]
  },
  {
   "cell_type": "markdown",
   "id": "42a47c72",
   "metadata": {},
   "source": [
    "### Dataset sizes\n",
    "Measured with `du -d 1 -b data-ssd/imagenet-5/ | sort -rh`.\n"
   ]
  },
  {
   "cell_type": "code",
   "execution_count": null,
   "id": "05fe08e5-69bf-4f43-8bef-f618be0e2d85",
   "metadata": {},
   "outputs": [],
   "source": [
    "dataset_size = {}\n",
    "dataset_size[\"raw\"] = 703498109\n",
    "\n",
    "dataset_size[\"jpeg\"] = {\"high\": 295403558, \"med\": 139170327, \"low\": 51858450}\n",
    "dataset_size[\"webp\"] = {\"high\": 237491660, \"med\": 106598158, \"low\": 44723084}\n",
    "\n",
    "dataset_size[\"bmshj2018_factorized-mse-mp\"] = {\"high\": 332744016, \"med\": 73175328, \"low\": 23734012}\n",
    "dataset_size[\"bmshj2018_factorized-mse\"] = {\"high\": 78067476, \"med\": 19933952, \"low\": 7126100}\n",
    "dataset_size[\"bmshj2018_hyperprior-mse\"] = {\"high\": 68361296, \"med\": 19188384, \"low\": 6993100}\n",
    "dataset_size[\"mbt2018_mean-mse\"] = {\"high\": 67897956, \"med\": 19405612, \"low\": 7007120}\n",
    "dataset_size[\"mbt2018-mse\"] = {\"high\": 63074772, \"med\": 16761428, \"low\": 5325648}\n",
    "dataset_size[\"cheng2020_anchor-mse\"] = {\"high\": 29952300, \"med\": 11134628, \"low\": 5736252}\n",
    "dataset_size[\"cheng2020_attn-mse\"] = {\"high\": 29875688, \"med\": 10596044, \"low\": 5377020}\n",
    "\n",
    "dataset_size[\"lossyless\"] = {\"high\": 2715924, \"med\": 1620720, \"low\": 1259204}"
   ]
  },
  {
   "cell_type": "markdown",
   "id": "cf9bda86-4e4a-49e9-912d-b8ea961ca07d",
   "metadata": {},
   "source": [
    "# Analysis"
   ]
  },
  {
   "cell_type": "markdown",
   "id": "3fb78040-c993-4371-8ffe-d5e9bb0d6b56",
   "metadata": {},
   "source": [
    "## Compression Factor"
   ]
  },
  {
   "cell_type": "code",
   "execution_count": null,
   "id": "7a5b21c8-0b1a-4987-8f9c-c0809ff7cff0",
   "metadata": {},
   "outputs": [
    {
     "name": "stdout",
     "output_type": "stream",
     "text": [
      "jpeg                          $14\\times$ & $5\\times$ & $2\\times$ & \n",
      "webp                          $16\\times$ & $7\\times$ & $3\\times$ & \n",
      "bmshj2018_factorized-mse      $99\\times$ & $35\\times$ & $9\\times$ & \n",
      "bmshj2018_hyperprior-mse      $101\\times$ & $37\\times$ & $10\\times$ & \n",
      "mbt2018_mean-mse              $100\\times$ & $36\\times$ & $10\\times$ & \n",
      "mbt2018-mse                   $132\\times$ & $42\\times$ & $11\\times$ & \n",
      "cheng2020_anchor-mse          $123\\times$ & $63\\times$ & $23\\times$ & \n",
      "cheng2020_attn-mse            $131\\times$ & $66\\times$ & $24\\times$ & \n",
      "lossyless                     $559\\times$ & $434\\times$ & $259\\times$ & \n"
     ]
    }
   ],
   "source": [
    "for key in dataset_size.keys():\n",
    "    if key == \"raw\" or \"mp\" in key:\n",
    "        continue\n",
    "    print(f\"{key:30}\", end=\"\")\n",
    "    print(f\"${dataset_size['raw'] / dataset_size[key]['low']:.0f}\\\\times$\", end=\" & \")\n",
    "    print(f\"${dataset_size['raw'] / dataset_size[key]['med']:.0f}\\\\times$\", end=\" & \")\n",
    "    print(f\"${dataset_size['raw'] / dataset_size[key]['high']:.0f}\\\\times$\", end=\" & \\n\")"
   ]
  },
  {
   "cell_type": "markdown",
   "id": "50457b95-a673-4e9e-ae4e-809005d6bfee",
   "metadata": {},
   "source": [
    "#### Multiprocessing vs data loader comparison"
   ]
  },
  {
   "cell_type": "code",
   "execution_count": null,
   "id": "45c42145-1934-4f5e-8354-ac27dc322669",
   "metadata": {},
   "outputs": [
    {
     "name": "stdout",
     "output_type": "stream",
     "text": [
      "bmshj2018_factorized-mse      98.72 & 35.29 & 9.01 & \n",
      "bmshj2018_factorized-mse-mp   29.64 & 9.61 & 2.11 & \n"
     ]
    }
   ],
   "source": [
    "for key in [\"bmshj2018_factorized-mse\", \"bmshj2018_factorized-mse-mp\"]:\n",
    "    print(f\"{key:30}\", end=\"\")\n",
    "    print(f\"{dataset_size['raw'] / dataset_size[key]['low']:.2f}\", end=\" & \")\n",
    "    print(f\"{dataset_size['raw'] / dataset_size[key]['med']:.2f}\", end=\" & \")\n",
    "    print(f\"{dataset_size['raw'] / dataset_size[key]['high']:.2f}\", end=\" & \\n\")"
   ]
  },
  {
   "cell_type": "markdown",
   "id": "f79a185c-2a88-4bc0-94d0-0cb3df575e5e",
   "metadata": {},
   "source": [
    "## Encoding Time"
   ]
  },
  {
   "cell_type": "code",
   "execution_count": null,
   "id": "5d916874-a33c-4c92-8029-ffe5dc2f24ac",
   "metadata": {},
   "outputs": [
    {
     "name": "stdout",
     "output_type": "stream",
     "text": [
      "enc-dl-bmshj2018_factorized-cuda   54 & 64 & 122 & \n",
      "enc-dl-bmshj2018_hyperprior-cuda   93 & 99 & 127 & \n",
      "enc-dl-cheng2020_anchor-cuda       3516 & 3481 & 3516 & \n",
      "enc-dl-cheng2020_attn-cuda         3494 & 3656 & 3564 & \n",
      "enc-dl-lossyless                   38 & 42 & 41 & \n",
      "enc-dl-mbt2018-cuda                3522 & 3540 & 3775 & \n",
      "enc-dl-mbt2018_mean-cuda           95 & 100 & 127 & \n",
      "enc-mp-jpeg                        4 & 5 & 4 & \n",
      "enc-mp-webp                        6 & 5 & 7 & \n"
     ]
    }
   ],
   "source": [
    "for exp in sorted([exp for exp in experiments if \"enc\" in exp and (\"jpeg\" in exp or \"webp\" in exp or \"cuda\" in exp or \"lossyless\" in exp) and \"full\" not in exp]):\n",
    "    print(f\"{exp:35}\", end=\"\")\n",
    "    print(f\"{data[exp]['low']['total_time']:.0f}\", end=\" & \")\n",
    "    print(f\"{data[exp]['med']['total_time']:.0f}\", end=\" & \")\n",
    "    print(f\"{data[exp]['high']['total_time']:.0f}\", end=\" & \\n\")"
   ]
  },
  {
   "cell_type": "markdown",
   "id": "318d6b91-41d4-4f1c-b450-3c355fd4e971",
   "metadata": {},
   "source": [
    "#### CUDA vs CPU comparison"
   ]
  },
  {
   "cell_type": "code",
   "execution_count": null,
   "id": "e70c65e4-6232-44d3-a90c-abe84b98e989",
   "metadata": {},
   "outputs": [
    {
     "name": "stdout",
     "output_type": "stream",
     "text": [
      "enc-dl-bmshj2018_factorized        138 & 147 & 251 & \n",
      "enc-dl-bmshj2018_factorized-cuda   54 & 64 & 122 & \n",
      "enc-dl-bmshj2018_hyperprior        237 & 246 & 373 & \n",
      "enc-dl-bmshj2018_hyperprior-cuda   93 & 99 & 127 & \n",
      "enc-dl-cheng2020_anchor            5654 & 6257 & 8448 & \n",
      "enc-dl-cheng2020_anchor-cuda       3516 & 3481 & 3516 & \n",
      "enc-dl-cheng2020_attn              6441 & 6177 & 7543 & \n",
      "enc-dl-cheng2020_attn-cuda         3494 & 3656 & 3564 & \n",
      "enc-dl-mbt2018                     8229 & 7219 & 13328 & \n",
      "enc-dl-mbt2018-cuda                3522 & 3540 & 3775 & \n",
      "enc-dl-mbt2018_mean                291 & 297 & 519 & \n",
      "enc-dl-mbt2018_mean-cuda           95 & 100 & 127 & \n"
     ]
    }
   ],
   "source": [
    "for exp in sorted([exp for exp in experiments if \"enc\" in exp and \"mp\" not in exp and \"jpeg\" not in exp and \"webp\" not in exp and \"lossyless\" not in exp and \"full\" not in exp]):\n",
    "    print(f\"{exp:35}\", end=\"\")\n",
    "    print(f\"{data[exp]['low']['total_time']:.0f}\", end=\" & \")\n",
    "    print(f\"{data[exp]['med']['total_time']:.0f}\", end=\" & \")\n",
    "    print(f\"{data[exp]['high']['total_time']:.0f}\", end=\" & \\n\")"
   ]
  },
  {
   "cell_type": "markdown",
   "id": "e44f0c11-0d0c-4f74-8d09-2fa4bf58f37e",
   "metadata": {},
   "source": [
    "#### Multiprocessing vs data loader comparison"
   ]
  },
  {
   "cell_type": "code",
   "execution_count": null,
   "id": "912decfc-bbdc-45a9-a930-cffc81cb5e2b",
   "metadata": {},
   "outputs": [
    {
     "name": "stdout",
     "output_type": "stream",
     "text": [
      "enc-dl-bmshj2018_factorized        138 & 147 & 251\n",
      "enc-dl-bmshj2018_factorized-cuda   54 & 64 & 122\n",
      "enc-mp-bmshj2018_factorized        838 & 826 & 1507\n"
     ]
    }
   ],
   "source": [
    "for exp in sorted([\"enc-mp-bmshj2018_factorized\", \"enc-dl-bmshj2018_factorized\", \"enc-dl-bmshj2018_factorized-cuda\"]):\n",
    "    print(f\"{exp:35}\", end=\"\")\n",
    "    print(f\"{data[exp]['low']['total_time']:.0f}\", end=\" & \")\n",
    "    print(f\"{data[exp]['med']['total_time']:.0f}\", end=\" & \")\n",
    "    print(f\"{data[exp]['high']['total_time']:.0f}\", end=\"\\n\")"
   ]
  },
  {
   "cell_type": "markdown",
   "id": "8895a697-86bf-41ce-b638-2d131e15a0b5",
   "metadata": {},
   "source": [
    "## Decoding Time"
   ]
  },
  {
   "cell_type": "code",
   "execution_count": null,
   "id": "08aa8d92-8d52-4dd0-87a5-5193c267c7ee",
   "metadata": {},
   "outputs": [
    {
     "name": "stdout",
     "output_type": "stream",
     "text": [
      "dec-dl-bmshj2018_factorized        1392 & 1727 & 1597 \n",
      "dec-dl-bmshj2018_hyperprior        1753 & 1907 & 2130 \n",
      "dec-dl-lossyless                   24 & 27 & 27 \n",
      "dec-dl-mbt2018_mean                1843 & 1871 & 2229 \n",
      "dec-mp-jpeg                        5 & 4 & 4 \n",
      "dec-mp-webp                        3 & 4 & 5 \n"
     ]
    }
   ],
   "source": [
    "for exp in sorted([exp for exp in experiments if \"dec\" in exp and \"full\" not in exp]):\n",
    "    print(f\"{exp:35}\", end=\"\")\n",
    "    print(f\"{data[exp]['low']['total_time']:.0f}\", end=\" & \")\n",
    "    print(f\"{data[exp]['med']['total_time']:.0f}\", end=\" & \")\n",
    "    print(f\"{data[exp]['high']['total_time']:.0f}\", end=\" \\n\")"
   ]
  },
  {
   "cell_type": "markdown",
   "id": "d28128c5-e555-498d-b071-14ebb24be31e",
   "metadata": {},
   "source": [
    "#### Full dataset encoding/decoding"
   ]
  },
  {
   "cell_type": "code",
   "execution_count": null,
   "id": "b7e20a87-5ef4-4615-9aaa-b4cfe3f8d275",
   "metadata": {},
   "outputs": [
    {
     "name": "stdout",
     "output_type": "stream",
     "text": [
      "dec-dl-lossyless-full              2738 & 2758 & 2909 & \n",
      "dec-mp-jpeg-full                   10 & 11 & 12 & \n",
      "dec-mp-webp-full                   14 & 17 & 17 & \n",
      "enc-dl-lossyless-full              1609 & 1653 & 1726 & \n",
      "enc-mp-jpeg-full                   105 & 111 & 116 & \n",
      "enc-mp-webp-full                   258 & 291 & 336 & \n"
     ]
    }
   ],
   "source": [
    "for exp in sorted([exp for exp in experiments if \"full\" in exp]):\n",
    "    print(f\"{exp:35}\", end=\"\")\n",
    "    print(f\"{data[exp]['low']['total_time']:.0f}\", end=\" & \")\n",
    "    print(f\"{data[exp]['med']['total_time']:.0f}\", end=\" & \")\n",
    "    print(f\"{data[exp]['high']['total_time']:.0f}\", end=\" & \\n\")"
   ]
  }
 ],
 "metadata": {},
 "nbformat": 4,
 "nbformat_minor": 5
}
