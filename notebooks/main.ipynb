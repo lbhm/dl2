{
 "cells": [
  {
   "cell_type": "code",
   "execution_count": 1,
   "id": "82025a33-aca5-47da-b2ff-74f43a3e43a1",
   "metadata": {},
   "outputs": [],
   "source": [
    "import glob\n",
    "import json\n",
    "import os\n",
    "\n",
    "import matplotlib as mpl\n",
    "import matplotlib.lines as mlines\n",
    "import matplotlib.patches as mpatches\n",
    "import matplotlib.pyplot as plt\n",
    "import numpy as np\n",
    "\n",
    "from plotting import autolabel_bars, COLOR_DICT, latexify, SNS_COLORS"
   ]
  },
  {
   "cell_type": "markdown",
   "id": "3b6d202a-d043-4910-a48b-73456f163b09",
   "metadata": {
    "tags": []
   },
   "source": [
    "## Data Preparation"
   ]
  },
  {
   "cell_type": "code",
   "execution_count": 2,
   "id": "cb35a029-4559-4b23-99fc-ad640db4d061",
   "metadata": {},
   "outputs": [],
   "source": [
    "files = [f for f in glob.glob(\"../logs/h?/*/*.json\") if \"h5\" not in f]\n",
    "experiments = []\n",
    "data = {}\n",
    "acc_1 = {}\n",
    "acc_5 = {}\n",
    "best_acc_1 = {}\n",
    "best_acc_5 = {}\n",
    "epoch_times = {}\n",
    "\n",
    "N_IMAGENET = 1331167\n",
    "N_IMAGENET_TRAIN = 1281167"
   ]
  },
  {
   "cell_type": "code",
   "execution_count": 3,
   "id": "9b60bc63-1731-4908-bfd6-bfd2069ca6c6",
   "metadata": {},
   "outputs": [],
   "source": [
    "def parse_exp_report(file, data, acc_1, acc_5, best_acc_1, best_acc_5, best_acc_key, epoch_times):\n",
    "    with open(file, \"r\") as f:\n",
    "        raw_data = f.readlines()\n",
    "    for line in raw_data:\n",
    "        parsed_line = json.loads(line[5:-1])\n",
    "\n",
    "        if parsed_line[\"type\"] == \"LOG\":\n",
    "            if parsed_line[\"step\"][0] == \"T\":\n",
    "                data[\"train\"].append(parsed_line)\n",
    "            elif parsed_line[\"step\"][0] == \"V\":\n",
    "                data[\"val\"].append(parsed_line)\n",
    "            elif parsed_line[\"step\"][0] == \"E\":\n",
    "                data[\"epoch\"].append(parsed_line)\n",
    "            elif parsed_line[\"step\"][0] == \"S\":\n",
    "                data[\"summary\"].append(parsed_line)\n",
    "            elif parsed_line[\"step\"][0] == \"P\":\n",
    "                data[\"params\"].append(parsed_line)\n",
    "            else:\n",
    "                raise ValueError(f\"Wrong step type: {parsed_line['step'][0]}\")\n",
    "\n",
    "    for log in data[\"epoch\"]:\n",
    "        if \"v.top1\" in log[\"data\"].keys():\n",
    "            acc_1.append((log[\"step\"][1] + 1, float(log[\"elapsedtime\"]) / 3600, log[\"data\"][\"v.top1\"]))\n",
    "            acc_5.append((log[\"step\"][1] + 1, float(log[\"elapsedtime\"]) / 3600, log[\"data\"][\"v.top5\"]))\n",
    "        elif \"e.total_time\" in log[\"data\"].keys():\n",
    "            epoch_times.append((log[\"step\"][1] + 1, float(log[\"data\"][\"e.total_time\"][:-1])))\n",
    "\n",
    "    if len(data[\"summary\"]):\n",
    "        for log in data[\"summary\"]:\n",
    "            if \"v.top1\" in log[\"data\"].keys():\n",
    "                best_acc_1[best_acc_key] = log[\"data\"][\"v.top1\"]\n",
    "                best_acc_5[best_acc_key] = log[\"data\"][\"v.top5\"]\n",
    "    else:\n",
    "        _, _, acc = map(list, zip(*acc_1[exp_name]))\n",
    "        best_acc_1[best_acc_key] = max(acc)\n",
    "        _, _, acc = map(list, zip(*acc_5[exp_name]))\n",
    "        best_acc_5[best_acc_key] = max(acc)"
   ]
  },
  {
   "cell_type": "code",
   "execution_count": 4,
   "id": "e367440b-365d-498f-9946-62e88674eac0",
   "metadata": {},
   "outputs": [],
   "source": [
    "for file in files:\n",
    "    exp_name = f\"{file.split('/')[-3]}-{file.split('/')[-2]}\"\n",
    "    \n",
    "    if \"standalone\" in exp_name:\n",
    "        # Standalone data loader output\n",
    "        experiments.append(exp_name)\n",
    "        with open(file, \"r\") as f:\n",
    "            data[exp_name] = json.load(f)\n",
    "    elif exp_name.startswith(\"h3\"):\n",
    "        # Training regimen with multiple stages\n",
    "        if exp_name not in data:\n",
    "            experiments.append(exp_name)\n",
    "            data[exp_name] = {}\n",
    "            acc_1[exp_name] = {}\n",
    "            acc_5[exp_name] = {}\n",
    "            best_acc_1[exp_name] = {}\n",
    "            best_acc_5[exp_name] = {}\n",
    "            epoch_times[exp_name] = {}\n",
    "        \n",
    "        base_name = os.path.splitext(os.path.basename(file))[0]\n",
    "        if base_name == \"regimen_log\":\n",
    "            pass\n",
    "        else:\n",
    "            stage = base_name.split(\"_\")[-1]\n",
    "            data[exp_name][stage] = {}\n",
    "            data[exp_name][stage][\"train\"] = []\n",
    "            data[exp_name][stage][\"val\"] = []\n",
    "            data[exp_name][stage][\"epoch\"] = []\n",
    "            data[exp_name][stage][\"summary\"] = []\n",
    "            data[exp_name][stage][\"params\"] = []\n",
    "            acc_1[exp_name][stage] = []\n",
    "            acc_5[exp_name][stage] = []\n",
    "            epoch_times[exp_name][stage] = []\n",
    "            \n",
    "            parse_exp_report(\n",
    "                file,\n",
    "                data[exp_name][stage],\n",
    "                acc_1[exp_name][stage],\n",
    "                acc_5[exp_name][stage],\n",
    "                best_acc_1[exp_name],\n",
    "                best_acc_5[exp_name],\n",
    "                stage,\n",
    "                epoch_times[exp_name][stage]\n",
    "            )\n",
    "    else:\n",
    "        # Default case\n",
    "        experiments.append(exp_name)\n",
    "        data[exp_name] = {}\n",
    "        data[exp_name][\"train\"] = []\n",
    "        data[exp_name][\"val\"] = []\n",
    "        data[exp_name][\"epoch\"] = []\n",
    "        data[exp_name][\"summary\"] = []\n",
    "        data[exp_name][\"params\"] = []\n",
    "        acc_1[exp_name] = []\n",
    "        acc_5[exp_name] = []\n",
    "        epoch_times[exp_name] = []\n",
    "        \n",
    "        parse_exp_report(\n",
    "            file,\n",
    "            data[exp_name],\n",
    "            acc_1[exp_name],\n",
    "            acc_5[exp_name],\n",
    "            best_acc_1,\n",
    "            best_acc_5,\n",
    "            exp_name,\n",
    "            epoch_times[exp_name]\n",
    "        )"
   ]
  },
  {
   "cell_type": "code",
   "execution_count": 5,
   "id": "c1f2b889-a4a1-446e-ad1c-8680e1998620",
   "metadata": {},
   "outputs": [],
   "source": [
    "for exp in experiments:\n",
    "    if exp.startswith(\"h3\"):\n",
    "        l = []\n",
    "        for k, v in acc_1[exp].items():\n",
    "            l += v\n",
    "        acc_1[exp] = sorted(l, key=lambda x: x[0])\n",
    "        \n",
    "        l = []\n",
    "        for k, v in acc_5[exp].items():\n",
    "            l += v\n",
    "        acc_5[exp] = sorted(l, key=lambda x: x[0])\n",
    "        \n",
    "        m = 0\n",
    "        for k, v in best_acc_1[exp].items():\n",
    "            m = v if v > m else m\n",
    "        best_acc_1[exp] = m\n",
    "        \n",
    "        m = 0\n",
    "        for k, v in best_acc_5[exp].items():\n",
    "            m = v if v > m else m\n",
    "        best_acc_5[exp] = m\n",
    "        \n",
    "        l = []\n",
    "        for k, v in epoch_times[exp].items():\n",
    "            l += v\n",
    "        epoch_times[exp] = sorted(l, key=lambda x: x[0])"
   ]
  },
  {
   "cell_type": "code",
   "execution_count": 6,
   "id": "4f655d02-9098-40e4-8bd4-9986238028a2",
   "metadata": {},
   "outputs": [],
   "source": [
    "# Taken from `misc.ipynb`\n",
    "repr_epoch_times = {\n",
    "    \"inet-r50-raw-hdd\": 6585,\n",
    "    \"inet-r50-jpeg85-hdd\": 2584,\n",
    "    \"inet-r50-jpeg75-hdd\": 1251,\n",
    "    \"inet-r50-jpeg50-hdd\": 1250,\n",
    "    \"inet-r50-jpeg25-hdd\": 1248,\n",
    "    \"inet-r50-jpeg10-hdd\": 1248,\n",
    "    \"inet-r18-raw-hdd\": 6585,\n",
    "    \"inet-r18-jpeg85-hdd\": 2584,\n",
    "    \"inet-r18-jpeg75-hdd\": 452,\n",
    "    \"inet-r18-jpeg50-hdd\": 449,\n",
    "    \"inet-r18-jpeg25-hdd\": 449,\n",
    "    \"inet-r18-jpeg10-hdd\": 448,\n",
    "    \"inet-alex-raw-hdd\": 6585,\n",
    "    \"inet-alex-jpeg85-hdd\": 2584,\n",
    "    \"inet-alex-jpeg75-hdd\": 215,\n",
    "    \"inet-alex-jpeg50-hdd\": 200,\n",
    "    \"inet-alex-jpeg25-hdd\": 192,\n",
    "    \"inet-alex-jpeg10-hdd\": 185,\n",
    "    \"inet-alex-raw-ssd\": 516,\n",
    "    \"inet-alex-jpeg85-ssd\": 265,\n",
    "    \"inet-alex-jpeg75-ssd\": 214,\n",
    "    \"inet-alex-jpeg50-ssd\": 201,\n",
    "    \"inet-alex-jpeg25-ssd\": 190,\n",
    "    \"inet-alex-jpeg10-ssd\": 186\n",
    "}"
   ]
  },
  {
   "cell_type": "markdown",
   "id": "08213324-2da6-44e4-86c5-0c4e5752146b",
   "metadata": {},
   "source": [
    "## Plotting Code"
   ]
  },
  {
   "cell_type": "code",
   "execution_count": 7,
   "id": "797bf1e4-05bb-4f2e-9d91-7ae7367d404e",
   "metadata": {},
   "outputs": [],
   "source": [
    "def plot_intro_acc_comparison(exps, filename, tight_layout=True, figsize=(10,10)):\n",
    "    f, ax = plt.subplots(1, 1, figsize=(figsize[0]/2.54, figsize[1]/2.54))\n",
    "    bars = []\n",
    "\n",
    "    bars += ax.bar(1, best_acc_1[exps[0]], color=SNS_COLORS[3])\n",
    "    bars += ax.bar(2, best_acc_1[exps[1]], color=SNS_COLORS[4])\n",
    "\n",
    "    ax.set_xticks([1, 2])\n",
    "    ax.set_xticklabels([\"Orig.\", \"Compr.\"])\n",
    "    ax.set_ylabel(\"Accuracy (\\%)\")\n",
    "    ax.set_ylim(0, 105)\n",
    "    \n",
    "    autolabel_bars(ax, bars, precision=0)\n",
    "\n",
    "    if tight_layout:\n",
    "        plt.tight_layout(pad=1.02)\n",
    "    \n",
    "    if DEBUG:\n",
    "        ax.set_title(filename)\n",
    "        plt.show()\n",
    "    else:\n",
    "        plt.savefig(f\"../plots/{filename}.pdf\", format=\"pdf\", bbox_inches=\"tight\", pad_inches=0.05)\n",
    "        plt.close()"
   ]
  },
  {
   "cell_type": "code",
   "execution_count": 8,
   "id": "417e6889-ac6f-4cb1-aafe-aaca83046854",
   "metadata": {},
   "outputs": [],
   "source": [
    "def plot_throughput_comparison(exps, filename, tight_layout=True, figsize=(10,10), legend_loc=None, print_ylabel=False, width=0.75, ylim_max=None):\n",
    "    mems = []\n",
    "    hdd = None\n",
    "    ssd = None\n",
    "    for exp in exps:\n",
    "        config = exp.split(\"-\")\n",
    "        times = np.array([i[1] for i in epoch_times[exp][1:]])\n",
    "        if config[3] == \"mem\":\n",
    "            mems.append((exp, times))\n",
    "        elif config[3] == \"hdd\":\n",
    "            hdd = (exp, times)\n",
    "        elif config[3] == \"ssd\":\n",
    "            ssd = (exp, times)\n",
    "        else:\n",
    "            raise Error\n",
    "\n",
    "    mems = sorted(mems, key=lambda x: int(x[0].split(\"-\")[4][1:]))\n",
    "\n",
    "    f, ax = plt.subplots(1, 1, figsize=(figsize[0]/2.54, figsize[1]/2.54))\n",
    "    bars = []\n",
    "    labels = []\n",
    "\n",
    "    x = np.arange(len(exps))\n",
    "    \n",
    "    bars += ax.bar(x[0], N_IMAGENET / hdd[1].mean(), width, color=SNS_COLORS[0])\n",
    "    labels.append(ssd[0].split(\"-\")[4][1:])\n",
    "    bars += ax.bar(x[1], N_IMAGENET / ssd[1].mean(), width, color=SNS_COLORS[1])\n",
    "    labels.append(hdd[0].split(\"-\")[4][1:])\n",
    "    for i, mem in enumerate(mems):\n",
    "        bars += ax.bar(x[i +2], N_IMAGENET / mem[1].mean(), width, color=SNS_COLORS[2])\n",
    "        labels.append(mem[0].split(\"-\")[4][1:])\n",
    "    \n",
    "    handles = []\n",
    "    handles.append(mpatches.Patch(color=SNS_COLORS[0], label=\"HDD\"))\n",
    "    handles.append(mpatches.Patch(color=SNS_COLORS[1], label=\"SSD\"))\n",
    "    handles.append(mpatches.Patch(color=SNS_COLORS[2], label=\"Memory\"))    \n",
    "\n",
    "    if legend_loc:\n",
    "        ax.legend(handles=handles, loc=legend_loc, ncol=3)\n",
    "    ax.set_xlabel(\"Number of data loader workers\")\n",
    "    ax.set_xticks(ticks=x)\n",
    "    ax.set_xticklabels(labels=labels)\n",
    "    if print_ylabel:\n",
    "        ax.set_ylabel(\"Throughput (img/s)\")\n",
    "    if ylim_max:\n",
    "        ax.set_ylim(0, ylim_max)\n",
    "\n",
    "    autolabel_bars(ax, bars, precision=0)\n",
    "\n",
    "    if tight_layout:\n",
    "        plt.tight_layout(pad=1.02)\n",
    "    \n",
    "    if DEBUG:\n",
    "        ax.set_title(filename)\n",
    "        plt.show()\n",
    "    else:\n",
    "        plt.savefig(f\"../plots/{filename}.pdf\", format=\"pdf\", bbox_inches=\"tight\", pad_inches=0.05)\n",
    "        plt.close()"
   ]
  },
  {
   "cell_type": "code",
   "execution_count": 9,
   "id": "b0d804ca-865f-4add-a533-9dd9bae2fad8",
   "metadata": {},
   "outputs": [],
   "source": [
    "def plot_standalone_dl_comparison(exps, filename, tick_labels, tight_layout=True, figsize=(15,10), legend_loc=None, print_xlabel=True, print_ylabel=False, width=0.75, ylim_max=None):\n",
    "    hdd = []\n",
    "    hdd_std = []\n",
    "    ssd = []\n",
    "    ssd_std = []\n",
    "    mem = []\n",
    "    mem_std = []\n",
    "\n",
    "    for exp in sorted(exps, reverse=True):\n",
    "        if \"hdd\" in exp:\n",
    "            hdd.append(N_IMAGENET / np.array(data[exp][\"epoch_times\"][1:]).mean())\n",
    "        elif \"ssd\" in exp:\n",
    "            ssd.append(N_IMAGENET / np.array(data[exp][\"epoch_times\"][1:]).mean())\n",
    "        elif \"mem\" in exp:\n",
    "            mem.append(N_IMAGENET / np.array(data[exp][\"epoch_times\"][1:]).mean())\n",
    "\n",
    "    fig, ax = plt.subplots(1, 1, figsize=(figsize[0]/2.54, figsize[1]/2.54))\n",
    "    bars = []\n",
    "    spacing = 0.05 * width\n",
    "    x = np.arange(3 * len(tick_labels), step=3)\n",
    "\n",
    "    bars += ax.bar(x - 1 * width - 1 * spacing, hdd, width, color=SNS_COLORS[0])\n",
    "    bars += ax.bar(x - 0 * width + 0 * spacing, ssd, width, color=SNS_COLORS[1])\n",
    "    bars += ax.bar(x + 1 * width + 1 * spacing, mem, width, color=SNS_COLORS[2])\n",
    "\n",
    "    handles = []\n",
    "    handles.append(mpatches.Patch(color=SNS_COLORS[0], label=\"HDD\"))\n",
    "    handles.append(mpatches.Patch(color=SNS_COLORS[1], label=\"SSD\"))\n",
    "    handles.append(mpatches.Patch(color=SNS_COLORS[2], label=\"Memory\"))\n",
    "\n",
    "    if legend_loc:\n",
    "        ax.legend(handles=handles, loc=legend_loc, ncol=3)\n",
    "    if print_xlabel:\n",
    "        ax.set_xlabel(\"Dataset Variant\")\n",
    "    ax.set_xticks(ticks=x)\n",
    "    ax.set_xticklabels(labels=tick_labels)\n",
    "    if print_ylabel:\n",
    "        ax.set_ylabel(\"Throughput (img/s)\")\n",
    "    if ylim_max:\n",
    "        ax.set_ylim(0, ylim_max)\n",
    "\n",
    "    autolabel_bars(ax, bars, precision=0)\n",
    "\n",
    "    if tight_layout:\n",
    "        plt.tight_layout(pad=1.02)\n",
    "\n",
    "    if DEBUG:\n",
    "        ax.set_title(filename)\n",
    "        plt.show()\n",
    "    else:\n",
    "        plt.savefig(f\"../plots/{filename}.pdf\", format=\"pdf\", bbox_inches=\"tight\", pad_inches=0.05)\n",
    "        plt.close()"
   ]
  },
  {
   "cell_type": "code",
   "execution_count": 10,
   "id": "16fd39ef-409f-4173-9103-ad42d1e14c1c",
   "metadata": {},
   "outputs": [],
   "source": [
    "def plot_codec_comparison(exps, filename, tight_layout=True, figsize=(10,10), legend_loc=\"upper left\", width=0.75, ylim_max=None):\n",
    "    jpeg = []\n",
    "    webp = []\n",
    "    labels = []\n",
    "    \n",
    "    for exp in exps:\n",
    "        times = np.array(epoch_times[exp])[1:,1]\n",
    "        labels.append(int(exp.split(\"-\")[4][1:]))\n",
    "        if \"jpeg\" in exp:\n",
    "            jpeg.append((exp, times))\n",
    "        elif \"webp\" in exp:\n",
    "            webp.append((exp, times))\n",
    "        else:\n",
    "            raise Error\n",
    "\n",
    "    jpeg = sorted(jpeg, key=lambda x: int(x[0].split(\"-\")[4][1:]))\n",
    "    jpeg = [N_IMAGENET / exp[1].mean() for exp in jpeg]\n",
    "    webp = sorted(webp, key=lambda x: int(x[0].split(\"-\")[4][1:]))\n",
    "    webp = [N_IMAGENET / exp[1].mean() for exp in webp]\n",
    "    labels = sorted(list(set(labels)))\n",
    "    assert len(jpeg) == len(webp)\n",
    "\n",
    "    f, ax = plt.subplots(1, 1, figsize=(figsize[0]/2.54, figsize[1]/2.54))\n",
    "    bars = []\n",
    "    \n",
    "    spacing = 0.05 * width\n",
    "    x = np.arange(2 * len(jpeg), step=2)\n",
    "\n",
    "    bars += ax.bar(x - 0.5 * width - 0.5 * spacing, jpeg, width, color=SNS_COLORS[0])\n",
    "    bars += ax.bar(x + 0.5 * width + 0.5 * spacing, webp, width, color=SNS_COLORS[1])\n",
    "\n",
    "    handles = []\n",
    "    handles.append(mpatches.Patch(color=SNS_COLORS[0], label=\"JPEG\"))\n",
    "    handles.append(mpatches.Patch(color=SNS_COLORS[1], label=\"WebP\"))\n",
    "\n",
    "    ax.legend(handles=handles, loc=legend_loc, ncol=2)\n",
    "    ax.set_xlabel(\"Number of data loader workers\")\n",
    "    ax.set_xticks(ticks=x)\n",
    "    ax.set_xticklabels(labels=labels)\n",
    "    ax.set_ylabel(\"Throughput (img/s)\")\n",
    "    if ylim_max:\n",
    "        ax.set_ylim(0, ylim_max)\n",
    "\n",
    "    autolabel_bars(ax, bars, precision=0)\n",
    "\n",
    "    if tight_layout:\n",
    "        plt.tight_layout(pad=1.02)\n",
    "    \n",
    "    if DEBUG:\n",
    "        ax.set_title(filename)\n",
    "        plt.show()\n",
    "    else:\n",
    "        plt.savefig(f\"../plots/{filename}.pdf\", format=\"pdf\", bbox_inches=\"tight\", pad_inches=0.05)\n",
    "        plt.close()"
   ]
  },
  {
   "cell_type": "code",
   "execution_count": 11,
   "id": "3878f646-399e-4c35-9ac9-a7143fcdb136",
   "metadata": {},
   "outputs": [],
   "source": [
    "def plot_acc_experiment(exps, filename, figsize=(10,10), tight_layout=True, epochs=90, legend=None, print_ylabel=False):\n",
    "    f, ax = plt.subplots(1, 1, figsize=(figsize[0]/2.54, figsize[1]/2.54))\n",
    "    \n",
    "    handles = []\n",
    "    for exp in sorted(exps, reverse=True):\n",
    "        variant = exp.split(\"-\")[4]\n",
    "        name = f\"QF {int(variant[-2:])}\" if variant != \"raw\" else \"Original\"\n",
    "        handles.append(mpatches.Patch(color=COLOR_DICT[variant], label=name))\n",
    "\n",
    "        epoch, _, acc = map(list, zip(*acc_1[exp]))\n",
    "        ax.plot(epoch, acc, aa=True, linestyle=\"-\", color=COLOR_DICT[variant])\n",
    "\n",
    "        epoch, _, acc = map(list, zip(*acc_5[exp]))\n",
    "        ax.plot(epoch, acc, aa=True, linestyle=\"--\", color=COLOR_DICT[variant])\n",
    "    \n",
    "    ax.set_xlabel(\"Epoch\")\n",
    "    ax.set_xlim(0, epochs)\n",
    "    if print_ylabel:\n",
    "        ax.set_ylabel(\"Accuracy (\\%)\")\n",
    "    ax.set_ylim(0, 100)\n",
    "    \n",
    "    if legend:\n",
    "        handles.append(mlines.Line2D([], [], color=\"black\", alpha=0.6, linestyle=\"-\", label=\"Top-1 accuracy\"))\n",
    "        handles.append(mlines.Line2D([], [], color=\"black\", alpha=0.6, linestyle=\"--\", label=\"Top-5 accuracy\"))\n",
    "        ax.legend(handles=handles, loc=legend, ncol=3)\n",
    "    \n",
    "    if tight_layout:\n",
    "        plt.tight_layout(pad=1.02)\n",
    "    \n",
    "    if DEBUG:\n",
    "        ax.set_title(filename)\n",
    "        plt.show()\n",
    "    else:\n",
    "        plt.savefig(f\"../plots/{filename}.pdf\", format=\"pdf\", bbox_inches=\"tight\", pad_inches=0.05)\n",
    "        plt.close()"
   ]
  },
  {
   "cell_type": "code",
   "execution_count": 12,
   "id": "045055cc-c8c2-457d-a550-7c5ed89ad35d",
   "metadata": {},
   "outputs": [],
   "source": [
    "def plot_acc_experiment_zoom(exps, filename, figsize=(10,10), tight_layout=True, epochs=90, zoom_min=60, zoom_max=80, print_ylabel=False):\n",
    "    f, ax = plt.subplots(1, 1, figsize=(figsize[0]/2.54, figsize[1]/2.54))\n",
    "    \n",
    "    for exp in exps:\n",
    "        variant = exp.split(\"-\")[4]\n",
    "\n",
    "        epoch, _, acc = map(list, zip(*acc_1[exp]))\n",
    "        ax.plot(epoch, acc, aa=True, linestyle=\"-\", color=COLOR_DICT[variant])\n",
    "\n",
    "        epoch, _, acc = map(list, zip(*acc_5[exp]))\n",
    "        ax.plot(epoch, acc, aa=True, linestyle=\"--\", color=COLOR_DICT[variant])\n",
    "    \n",
    "    ax.set_xlabel(\"Epoch\")\n",
    "    ax.set_xlim(epochs * 0.9, epochs)\n",
    "    if print_ylabel:\n",
    "        ax.set_ylabel(\"Top-1 accuracy (\\%)\")\n",
    "    ax.set_ylim(zoom_min, zoom_max)\n",
    "    ax.set_yticks([zoom_min, (zoom_min + zoom_max) / 2, zoom_max])\n",
    "    \n",
    "    if \"r50\" in filename:\n",
    "        if \"inet\" in filename:\n",
    "            ax.axhline(75.9, color=\"gray\", alpha=0.8, linestyle=\":\", linewidth=1.5)\n",
    "        elif \"p365\" in filename:\n",
    "            ax.axhline(54.74, color=\"gray\", alpha=0.8, linestyle=\":\", linewidth=1.5)\n",
    "    \n",
    "    if tight_layout:\n",
    "        plt.tight_layout(pad=1.02)\n",
    "    \n",
    "    if DEBUG:\n",
    "        ax.set_title(filename)\n",
    "        plt.show()\n",
    "    else:\n",
    "        plt.savefig(f\"../plots/{filename}.pdf\", format=\"pdf\", bbox_inches=\"tight\", pad_inches=0.05)\n",
    "        plt.close()"
   ]
  },
  {
   "cell_type": "code",
   "execution_count": 13,
   "id": "9ad13919-12a5-4887-a548-de4a2247b6f7",
   "metadata": {},
   "outputs": [],
   "source": [
    "def plot_time_experiment(exps, filename, time_limit, figsize=(10,10), tight_layout=True, print_ylabel=False):\n",
    "    f, ax = plt.subplots(1, 1, figsize=(figsize[0]/2.54, figsize[1]/2.54))\n",
    "    \n",
    "    for exp in exps:\n",
    "        variant = exp.split(\"-\")[4]\n",
    "        epoch_time = repr_epoch_times[\"-\".join(exp.split(\"-\")[2:6])]\n",
    "\n",
    "        epoch, _, acc = map(list, zip(*acc_1[exp]))\n",
    "        ax.plot(np.array(epoch) * epoch_time / 3600, acc, aa=True, linestyle=\"-\", color=COLOR_DICT[variant])\n",
    "\n",
    "        epoch, _, acc = map(list, zip(*acc_5[exp]))\n",
    "        ax.plot(np.array(epoch) * epoch_time / 3600, acc, aa=True, linestyle=\"--\", color=COLOR_DICT[variant])\n",
    "    \n",
    "    ax.set_xlabel(\"Time (h)\")\n",
    "    ax.set_xlim(0, time_limit)\n",
    "    if print_ylabel:\n",
    "        ax.set_ylabel(\"Accuracy (\\%)\")\n",
    "    ax.set_ylim(0, 100)\n",
    "    ax.locator_params(axis='x', nbins=5)\n",
    "    if time_limit == 5:\n",
    "        ax.locator_params(axis='x', nbins=6)\n",
    "    \n",
    "    if tight_layout:\n",
    "        plt.tight_layout(pad=1.02)\n",
    "    \n",
    "    if DEBUG:\n",
    "        ax.set_title(filename)\n",
    "        plt.show()\n",
    "    else:\n",
    "        plt.savefig(f\"../plots/{filename}.pdf\", format=\"pdf\", bbox_inches=\"tight\", pad_inches=0.05)\n",
    "        plt.close()"
   ]
  },
  {
   "cell_type": "code",
   "execution_count": 14,
   "id": "c7f25e4a-a2f6-48c7-ac4c-1624876483a9",
   "metadata": {},
   "outputs": [],
   "source": [
    "def plot_space_experiment(exp_group, filename, figsize=(10,10), tight_layout=True, epochs=90, print_ylabel=False):\n",
    "    if \"inet\" in exp_group:\n",
    "        comparisons = [\n",
    "            (\"50\", (f\"h2-acc-{exp_group}-jpeg85-mem\", f\"h2-space-{exp_group}-raw50-mem\")),\n",
    "            (\"40\", (f\"h2-acc-{exp_group}-jpeg75-mem\", f\"h2-space-{exp_group}-raw40-mem\")),\n",
    "            (\"30\", (f\"h2-acc-{exp_group}-jpeg50-mem\", f\"h2-space-{exp_group}-raw30-mem\")),\n",
    "            (\"20\", (f\"h2-acc-{exp_group}-jpeg25-mem\", f\"h2-space-{exp_group}-raw20-mem\")),\n",
    "            (\"10\", (f\"h2-acc-{exp_group}-jpeg10-mem\", f\"h2-space-{exp_group}-raw10-mem\")),\n",
    "        ]\n",
    "    elif \"p365\" in exp_group:\n",
    "        comparisons = [\n",
    "            (\"50\", (f\"h2-acc-{exp_group}-jpeg25-mem\", f\"h2-space-{exp_group}-raw50-mem\")),\n",
    "            (\"40\", (f\"h2-acc-{exp_group}-jpeg10-mem\", f\"h2-space-{exp_group}-raw40-mem\")),\n",
    "            (\"30\", (f\"h2-acc-{exp_group}-jpeg10-mem\", f\"h2-space-{exp_group}-raw30-mem\")),\n",
    "            (\"20\", (f\"h2-acc-{exp_group}-jpeg05-mem\", f\"h2-space-{exp_group}-raw20-mem\")),\n",
    "        ]\n",
    "    else:\n",
    "        raise ValueError\n",
    "    \n",
    "    for limit, exps in comparisons:\n",
    "        f, ax = plt.subplots(1, 1, figsize=(figsize[0]/2.54, figsize[1]/2.54))\n",
    "        \n",
    "        variant = exps[0].split(\"-\")[-2]\n",
    "\n",
    "        epoch, _, acc = map(list, zip(*acc_1[exps[0]]))\n",
    "        ax.plot(epoch, acc, aa=True, linestyle=\"-\", color=COLOR_DICT[variant])\n",
    "        epoch, _, acc = map(list, zip(*acc_1[exps[1]]))\n",
    "        ax.plot(epoch, acc, aa=True, linestyle=\"-\", color=COLOR_DICT[\"raw\"])\n",
    "\n",
    "        epoch, _, acc = map(list, zip(*acc_5[exps[0]]))\n",
    "        ax.plot(epoch, acc, aa=True, linestyle=\"--\", color=COLOR_DICT[variant])\n",
    "        epoch, _, acc = map(list, zip(*acc_5[exps[1]]))\n",
    "        ax.plot(epoch, acc, aa=True, linestyle=\"--\", color=COLOR_DICT[\"raw\"])\n",
    "        \n",
    "        ax.set_xlabel(\"Epoch\")\n",
    "        ax.set_xlim(0, epochs)\n",
    "        if print_ylabel:\n",
    "            ax.set_ylabel(\"Accuracy (\\%)\")\n",
    "        ax.set_ylim(0, 100)\n",
    "        ax.locator_params(axis='x', nbins=4)\n",
    "        \n",
    "        if tight_layout:\n",
    "            plt.tight_layout(pad=1.02)\n",
    "\n",
    "        if DEBUG:\n",
    "            plt.show()\n",
    "        else:\n",
    "            plt.savefig(f\"../plots/{filename}_{limit}.pdf\", format=\"pdf\", bbox_inches=\"tight\", pad_inches=0.05)\n",
    "            plt.close()"
   ]
  },
  {
   "cell_type": "code",
   "execution_count": 15,
   "id": "50dfd155-326e-4d19-bcd5-07f5bf5da613",
   "metadata": {
    "tags": []
   },
   "outputs": [],
   "source": [
    "def plot_legend(ids, filename, ncol=2, figsize=(10,10), tight_layout=True, bbox_inches=\"tight\"):\n",
    "    f = plt.figure(figsize=(figsize[0]/2.54, figsize[1]/2.54))\n",
    "    \n",
    "    handles = []\n",
    "    for i in ids:\n",
    "        if \"Top-1\" in i:\n",
    "            handles.append(mlines.Line2D([], [], color=\"black\", alpha=0.6, linestyle=\"-\", label=i))\n",
    "        elif \"Top-5\" in i:\n",
    "            handles.append(mlines.Line2D([], [], color=\"black\", alpha=0.6, linestyle=\"--\", label=i))\n",
    "        elif i.startswith(\"b_\"):\n",
    "            handles.append(mlines.Line2D([], [], color=COLOR_DICT[i[2:]], linestyle=\"--\", label=f\"QF {int(i[-2:])}\" if \"raw\" not in i else \"Original\"))\n",
    "        elif i == \"raw\":\n",
    "            handles.append(mpatches.Patch(color=COLOR_DICT[i], label=\"Original\"))\n",
    "        elif i == \"subsample\":\n",
    "            handles.append(mpatches.Patch(color=COLOR_DICT[\"raw\"], label=\"Subsample\"))\n",
    "        elif i == \"hdd\":\n",
    "            handles.append(mpatches.Patch(color=SNS_COLORS[0], label=\"HDD\"))\n",
    "        elif i == \"ssd\":\n",
    "            handles.append(mpatches.Patch(color=SNS_COLORS[1], label=\"SSD\"))\n",
    "        elif i == \"memory\":\n",
    "            handles.append(mpatches.Patch(color=SNS_COLORS[2], label=\"Memory\"))\n",
    "        else:\n",
    "            handles.append(mpatches.Patch(color=COLOR_DICT[i], label=f\"QF {int(i[-2:])}\"))\n",
    "    \n",
    "    f.legend(handles=handles, loc=\"center\", ncol=ncol, frameon=False, columnspacing=2, borderaxespad=0.5, labelspacing=0.5, fontsize=mpl.rcParams[\"font.size\"], handlelength=1.5)\n",
    "    \n",
    "    if tight_layout:\n",
    "        plt.tight_layout(pad=1.02)\n",
    "    \n",
    "    if DEBUG:\n",
    "        plt.show()\n",
    "    else:\n",
    "        plt.savefig(f\"../plots/{filename}.pdf\", format=\"pdf\", bbox_inches=bbox_inches, pad_inches=0.05)\n",
    "        plt.close()"
   ]
  },
  {
   "cell_type": "code",
   "execution_count": 16,
   "id": "fc64aae6-1c2f-48f3-a3c7-752d0ddd9efd",
   "metadata": {},
   "outputs": [],
   "source": [
    "def plot_regimen_experiment(exps, baselines, filename, tight_layout=True, figsize=(10,10), legend_loc=\"lower right\", epochs=90, zoom_min=60, zoom_max=80, print_ylabel=False):\n",
    "    f, ax = plt.subplots(1, 1, figsize=(figsize[0]/2.54, figsize[1]/2.54))\n",
    "    \n",
    "    handles = []\n",
    "    # Print baselines first so that their z-order is below regimens\n",
    "    for exp in baselines:\n",
    "        variant = exp.split(\"-\")[4]\n",
    "        epoch, _, acc = map(list, zip(*acc_1[exp]))\n",
    "        ax.plot(epoch, acc, aa=True, linestyle=\"--\", color=COLOR_DICT[variant], alpha=0.9, linewidth=0.9)\n",
    "    \n",
    "    for exp in exps:\n",
    "        regimen = exp.split(\"-\")[3]\n",
    "        regimen_type = \"SR\" if regimen.split(\"_\")[0].split(\":\")[1] == \"45\" else \"TLR\"\n",
    "        variant = regimen.split(\"_\")[0].split(\":\")[0]\n",
    "        handles.append(mlines.Line2D([], [], color=COLOR_DICT[f\"jpeg{variant}\"], label=f\"{regimen_type} QF {variant}\"))\n",
    "\n",
    "        epoch, _, acc = map(list, zip(*acc_1[exp]))\n",
    "        ax.plot(epoch, acc, aa=True, linestyle=\"-\", color=COLOR_DICT[f\"jpeg{variant}\"], linewidth=1.5)\n",
    "\n",
    "    ax.legend(handles=handles, loc=legend_loc, ncol=int((len(handles) + 1) / 2))\n",
    "    ax.set_xlabel(\"Epoch\")\n",
    "    ax.set_xlim(epochs * 0.9, epochs)\n",
    "    if print_ylabel:\n",
    "        ax.set_ylabel(\"Top-1 accuracy (\\%)\")\n",
    "    ax.set_ylim(zoom_min, zoom_max)\n",
    "    ax.set_yticks([zoom_min, (zoom_min + zoom_max) / 2, zoom_max])\n",
    "    \n",
    "    if \"r50\" in filename:\n",
    "        if \"inet\" in filename:\n",
    "            ax.axhline(75.9, color=\"gray\", alpha=0.8, linestyle=\":\")\n",
    "        elif \"p365\" in filename:\n",
    "            ax.axhline(54.74, color=\"gray\", alpha=0.8, linestyle=\":\")\n",
    "    \n",
    "    if tight_layout:\n",
    "        plt.tight_layout(pad=1.02)\n",
    "    \n",
    "    if DEBUG:\n",
    "        ax.set_title(filename)\n",
    "        plt.show()\n",
    "    else:\n",
    "        plt.savefig(f\"../plots/{filename}.pdf\", format=\"pdf\", bbox_inches=\"tight\", pad_inches=0.05)\n",
    "        plt.close()"
   ]
  },
  {
   "cell_type": "code",
   "execution_count": 17,
   "id": "e82aeda9-0a15-437f-b0ed-a1e820dab769",
   "metadata": {},
   "outputs": [],
   "source": [
    "def plot_orthogonality_experiment(exp_groups, tick_labels, filename, tight_layout=True, figsize=(15,10), legend_loc=\"upper left\"):\n",
    "    fig, ax = plt.subplots(1, 1, figsize=(figsize[0]/2.54, figsize[1]/2.54))\n",
    "    \n",
    "    width = 0.2\n",
    "    spacing = 0.05 * width\n",
    "    x_ticks = np.arange(len(exp_groups))\n",
    "    \n",
    "    bars = []\n",
    "    for i, group in enumerate(exp_groups):\n",
    "        default = np.array(epoch_times[f\"{group}-raw-pytorch\"])[1:,1]\n",
    "        minio = np.array(epoch_times[f\"{group}-raw-minio\"])[1:,1]\n",
    "        compression = np.array(epoch_times[f\"{group}-jpeg85-pytorch\"])[1:,1]\n",
    "        combined = np.array(epoch_times[f\"{group}-jpeg85-minio\"])[1:,1]\n",
    "        \n",
    "        bars += ax.bar(i - 1.5 * width - 3 * spacing, N_IMAGENET_TRAIN / default.mean(), width, color=COLOR_DICT[\"default\"])\n",
    "        bars += ax.bar(i - 0.5 * width - 1 * spacing, N_IMAGENET_TRAIN / minio.mean(), width, color=COLOR_DICT[\"minio\"])\n",
    "        bars += ax.bar(i + 0.5 * width + 1 * spacing, N_IMAGENET_TRAIN / compression.mean(), width, color=COLOR_DICT[\"compressed\"])\n",
    "        bars += ax.bar(i + 1.5 * width + 3 * spacing, N_IMAGENET_TRAIN / combined.mean(), width, color=COLOR_DICT[\"combined\"])\n",
    "\n",
    "    handles = []\n",
    "    handles.append(mpatches.Patch(color=COLOR_DICT[\"default\"], label=\"Default\"))\n",
    "    handles.append(mpatches.Patch(color=COLOR_DICT[\"minio\"], label=\"MinIO\"))\n",
    "    handles.append(mpatches.Patch(color=COLOR_DICT[\"compressed\"], label=\"Compression\"))\n",
    "    handles.append(mpatches.Patch(color=COLOR_DICT[\"combined\"], label=\"Combined\"))\n",
    "    \n",
    "    ax.legend(handles=handles, loc=legend_loc, ncol=4)\n",
    "    ax.set_xticks(ticks=x_ticks)\n",
    "    ax.set_xticklabels(labels=tick_labels)\n",
    "    ax.set_ylabel(\"Throughput (img/s)\")\n",
    "    ax.set_ylim(0, ax.get_ylim()[1] * 1.1)\n",
    "\n",
    "    autolabel_bars(ax, bars, precision=0)\n",
    "\n",
    "    if tight_layout:\n",
    "        plt.tight_layout(pad=1.02)\n",
    "\n",
    "    if DEBUG:\n",
    "        ax.set_title(filename)\n",
    "        plt.show()\n",
    "    else:\n",
    "        plt.savefig(f\"../plots/{filename}.pdf\", format=\"pdf\", bbox_inches=\"tight\", pad_inches=0.05)\n",
    "        plt.close()"
   ]
  },
  {
   "cell_type": "markdown",
   "id": "babf2428-940e-4bdb-af0d-313c51057912",
   "metadata": {},
   "source": [
    "**Only run one cell of the following two.**"
   ]
  },
  {
   "cell_type": "code",
   "execution_count": null,
   "id": "1853c83e-d53b-4b7d-80ec-e292821b0326",
   "metadata": {},
   "outputs": [],
   "source": [
    "DEBUG = True"
   ]
  },
  {
   "cell_type": "code",
   "execution_count": null,
   "id": "3e3866f3-9d50-4abe-b9c8-a63f09df38bb",
   "metadata": {},
   "outputs": [],
   "source": [
    "DEBUG = False\n",
    "latexify(base_size=11)"
   ]
  },
  {
   "cell_type": "markdown",
   "id": "edf69ba2-d57e-409b-a4b1-76f84f43248e",
   "metadata": {},
   "source": [
    "# Introduction Teaser"
   ]
  },
  {
   "cell_type": "code",
   "execution_count": null,
   "id": "346194e4-cb98-456b-bd25-178ce99cbd08",
   "metadata": {},
   "outputs": [],
   "source": [
    "if not DEBUG:\n",
    "    latexify(base_size=9)\n",
    "    \n",
    "plot_standalone_dl_comparison([exp for exp in sorted(experiments) if \"standalone\" in exp and \"dalic\" in exp and \"jpeg75\" not in exp], \"intro_teaser_throughput\", tick_labels=[\"Original\", \"Compressed\"], figsize=(7, 4.05), legend_loc=\"upper center\", print_xlabel=False, print_ylabel=True, ylim_max=5500)\n",
    "plot_intro_acc_comparison([\"h2-acc-inet-r18-raw-mem\", \"h2-acc-inet-r18-jpeg10-mem\"], \"intro_teaser_accuracy\", figsize=(3.5, 4.05))\n",
    "\n",
    "if not DEBUG:\n",
    "    latexify(base_size=11)"
   ]
  },
  {
   "cell_type": "markdown",
   "id": "3344852b-1115-42b9-9622-1b676ec66da7",
   "metadata": {},
   "source": [
    "## H1: Fetch and Decoding Bottlenecks"
   ]
  },
  {
   "cell_type": "code",
   "execution_count": null,
   "id": "0ef80568-b647-49a3-bee5-c43ad423f364",
   "metadata": {
    "tags": []
   },
   "outputs": [],
   "source": [
    "plot_throughput_comparison([exp for exp in sorted(experiments) if \"h1-r50-raw\" in exp and \"w12\" not in exp], \"h1a_r50\", figsize=(9, 4.5), width=0.85, ylim_max=5500)\n",
    "plot_throughput_comparison([exp for exp in sorted(experiments) if \"h1-alex-raw\" in exp], \"h1a_alex\", figsize=(9, 4.5), width=0.85, ylim_max=5500)\n",
    "plot_standalone_dl_comparison([exp for exp in sorted(experiments) if \"standalone\" in exp and \"dalic\" in exp], \"h1b_dalic\", width=0.85, tick_labels=[\"Original\", \"JPEG 75\", \"JPEG 10\"], figsize=(9, 4.5), ylim_max=5500)\n",
    "\n",
    "plot_legend([\"hdd\", \"ssd\", \"memory\"], \"h1_legend_1row\", figsize=(8, 3), ncol=3)"
   ]
  },
  {
   "cell_type": "code",
   "execution_count": null,
   "id": "5c8d0778-7c55-4fd0-9d45-ff2e6249d8cd",
   "metadata": {},
   "outputs": [],
   "source": [
    "# JPEG vs WebP comparison\n",
    "plot_codec_comparison([exp for exp in experiments if \"h1\" in exp and \"alex\" in exp and \"85\" in exp], \"h1c_codec_comparison\", figsize=(12, 5), ylim_max=7200, width=0.8)"
   ]
  },
  {
   "cell_type": "markdown",
   "id": "2c51aff3-acb9-433e-8059-2db2229e8fd3",
   "metadata": {},
   "source": [
    "## H2: Image Compression as a Drop-in Replacement"
   ]
  },
  {
   "cell_type": "markdown",
   "id": "82a9544d-2ab7-43ec-870b-2123997de3dc",
   "metadata": {},
   "source": [
    "### H2a: Achievable accuracy"
   ]
  },
  {
   "cell_type": "code",
   "execution_count": null,
   "id": "890e7360-3ab5-4e3d-bd55-24ebd362f4c2",
   "metadata": {
    "tags": []
   },
   "outputs": [],
   "source": [
    "plot_acc_experiment([exp for exp in sorted(experiments) if \"h2-acc-inet-r50-raw\" in exp or \"h2-acc-inet-r50-jpeg\" in exp], \"h2a_inet_r50_jpeg\", figsize=(12, 6), legend=\"lower right\", print_ylabel=True)\n",
    "\n",
    "plot_acc_experiment_zoom([exp for exp in sorted(experiments) if \"h2-acc-inet-r50-raw\" in exp or \"h2-acc-inet-r50-jpeg\" in exp], \"h2a_inet_r50_jpeg_zoom\", figsize=(7.2, 4.5), zoom_min=71, zoom_max=79)\n",
    "plot_acc_experiment_zoom([exp for exp in sorted(experiments) if \"h2-acc-inet-r50-raw\" in exp or \"h2-acc-inet-r50-webp\" in exp], \"h2a_inet_r50_webp_zoom\", figsize=(7.2, 4.5), zoom_min=71, zoom_max=79)\n",
    "plot_acc_experiment_zoom([exp for exp in sorted(experiments) if \"h2-acc-inet-r18-raw\" in exp or \"h2-acc-inet-r18-jpeg\" in exp], \"h2a_inet_r18_jpeg_zoom\", figsize=(7.2, 4.5), zoom_min=66, zoom_max=72)\n",
    "plot_acc_experiment_zoom([exp for exp in sorted(experiments) if \"h2-acc-inet-alex-raw\" in exp or \"h2-acc-inet-alex-jpeg\" in exp], \"h2a_inet_alex_jpeg_zoom\", figsize=(7.2, 4.5), zoom_min=50, zoom_max=56)\n",
    "plot_acc_experiment_zoom([exp for exp in sorted(experiments) if \"h2-acc-p365-r50-raw\" in exp or \"h2-acc-p365-r50-jpeg\" in exp], \"h2a_p365_r50_jpeg_zoom\", figsize=(7.2, 4.5), zoom_min=50, zoom_max=56)\n",
    "plot_acc_experiment_zoom([exp for exp in sorted(experiments) if \"h2-acc-p365-r50-raw\" in exp or \"h2-acc-p365-r50-webp\" in exp], \"h2a_p365_r50_webp_zoom\", figsize=(7.2, 4.5), zoom_min=50, zoom_max=56)\n",
    "plot_acc_experiment_zoom([exp for exp in sorted(experiments) if \"h2-acc-p365-r18-raw\" in exp or \"h2-acc-p365-r18-jpeg\" in exp], \"h2a_p365_r18_jpeg_zoom\", figsize=(7.2, 4.5), zoom_min=48, zoom_max=56)\n",
    "plot_acc_experiment_zoom([exp for exp in sorted(experiments) if \"h2-acc-p365-alex-raw\" in exp or \"h2-acc-p365-alex-jpeg\" in exp], \"h2a_p365_alex_jpeg_zoom\", figsize=(7.2, 4.5), zoom_min=44, zoom_max=50)\n",
    "\n",
    "plot_legend([\"raw\", \"jpeg85\", \"jpeg75\", \"jpeg50\", \"jpeg25\", \"jpeg10\", \"jpeg05\", \"jpeg01\"], \"h2a_legend_1row\", figsize=(8, 3), ncol=8)"
   ]
  },
  {
   "cell_type": "code",
   "execution_count": 18,
   "id": "5190d8d9-c6f5-4745-91cd-2a4981a26864",
   "metadata": {
    "collapsed": true,
    "jupyter": {
     "outputs_hidden": true
    },
    "tags": []
   },
   "outputs": [
    {
     "name": "stdout",
     "output_type": "stream",
     "text": [
      "h2-acc-inet-r50-jpeg10-mem\t73.47757\n",
      "h2-acc-inet-r50-jpeg25-mem\t75.32252\n",
      "h2-acc-inet-r50-jpeg50-mem\t75.57492\n",
      "h2-acc-inet-r50-jpeg75-mem\t76.07172\n",
      "h2-acc-inet-r50-jpeg85-mem\t76.78486\n",
      "h2-acc-inet-r50-raw-mem   \t76.72476\n"
     ]
    }
   ],
   "source": [
    "for exp in [exp for exp in sorted(experiments) if \"h2-acc-inet-r50-raw\" in exp or \"h2-acc-inet-r50-jpeg\" in exp]:\n",
    "    print(f\"{exp : <26}\\t{best_acc_1[exp]:.5f}\")"
   ]
  },
  {
   "cell_type": "code",
   "execution_count": 19,
   "id": "93c29a78-aff2-421d-9e83-d5fc6b31adbc",
   "metadata": {
    "collapsed": true,
    "jupyter": {
     "outputs_hidden": true
    },
    "tags": []
   },
   "outputs": [
    {
     "name": "stdout",
     "output_type": "stream",
     "text": [
      "h2-acc-inet-r50-raw-mem   \t76.72476\n",
      "h2-acc-inet-r50-webp10-mem\t73.58645\n",
      "h2-acc-inet-r50-webp25-mem\t75.01250\n",
      "h2-acc-inet-r50-webp50-mem\t75.84433\n",
      "h2-acc-inet-r50-webp75-mem\t76.23048\n",
      "h2-acc-inet-r50-webp85-mem\t76.43447\n"
     ]
    }
   ],
   "source": [
    "for exp in [exp for exp in sorted(experiments) if \"h2-acc-inet-r50-raw\" in exp or \"h2-acc-inet-r50-webp\" in exp]:\n",
    "    print(f\"{exp : <26}\\t{best_acc_1[exp]:.5f}\")"
   ]
  },
  {
   "cell_type": "code",
   "execution_count": 20,
   "id": "d20c9c33-9ad6-45f3-984a-c8d547c23120",
   "metadata": {
    "collapsed": true,
    "jupyter": {
     "outputs_hidden": true
    },
    "tags": []
   },
   "outputs": [
    {
     "name": "stdout",
     "output_type": "stream",
     "text": [
      "h2-acc-p365-r50-jpeg01-mem\t51.33256\n",
      "h2-acc-p365-r50-jpeg05-mem\t53.54610\n",
      "h2-acc-p365-r50-jpeg10-mem\t54.62378\n",
      "h2-acc-p365-r50-jpeg25-mem\t55.20279\n",
      "h2-acc-p365-r50-jpeg50-mem\t55.29976\n",
      "h2-acc-p365-r50-raw-mem   \t55.37733\n"
     ]
    }
   ],
   "source": [
    "for exp in [exp for exp in sorted(experiments) if \"h2-acc-p365-r50-raw\" in exp or \"h2-acc-p365-r50-jpeg\" in exp]:\n",
    "    print(f\"{exp : <26}\\t{best_acc_1[exp]:.5f}\")"
   ]
  },
  {
   "cell_type": "code",
   "execution_count": 21,
   "id": "d4ce3800-80f3-4585-9bff-27e7b7c5e86f",
   "metadata": {
    "collapsed": true,
    "jupyter": {
     "outputs_hidden": true
    },
    "tags": []
   },
   "outputs": [
    {
     "name": "stdout",
     "output_type": "stream",
     "text": [
      "h2-acc-p365-r50-raw-mem   \t55.37733\n",
      "h2-acc-p365-r50-webp01-mem\t54.34768\n",
      "h2-acc-p365-r50-webp05-mem\t54.69282\n",
      "h2-acc-p365-r50-webp10-mem\t55.01062\n",
      "h2-acc-p365-r50-webp25-mem\t55.05179\n",
      "h2-acc-p365-r50-webp50-mem\t55.14770\n",
      "h2-acc-p365-r50-webp75-mem\t55.08201\n"
     ]
    }
   ],
   "source": [
    "for exp in [exp for exp in sorted(experiments) if \"h2-acc-p365-r50-raw\" in exp or \"h2-acc-p365-r50-webp\" in exp]:\n",
    "    print(f\"{exp : <26}\\t{best_acc_1[exp]:.5f}\")"
   ]
  },
  {
   "cell_type": "markdown",
   "id": "555c3a72-efd5-4417-9a5c-cb892af49e45",
   "metadata": {},
   "source": [
    "### H2b: Time limit experiments"
   ]
  },
  {
   "cell_type": "code",
   "execution_count": null,
   "id": "5ddad557-00ac-4de0-91d3-94f190d81618",
   "metadata": {},
   "outputs": [],
   "source": [
    "plot_time_experiment([exp for exp in sorted(experiments) if \"h2-time-inet-r50\" in exp and \"hdd-10h\" in exp], \"h2b_inet_r50_hdd_10h_time\", 10, figsize=(6.5, 4.7))\n",
    "plot_time_experiment([exp for exp in sorted(experiments) if \"h2-time-inet-r50\" in exp and \"hdd-20h\" in exp], \"h2b_inet_r50_hdd_20h_time\", 20, figsize=(6.5, 4.7))\n",
    "plot_time_experiment([exp for exp in sorted(experiments) if \"h2-time-inet-alex\" in exp and \"ssd-5h\" in exp], \"h2b_inet_alex_ssd_5h_time\", 5, figsize=(6.5, 4.7))\n",
    "\n",
    "plot_legend([\"raw\", \"jpeg85\", \"jpeg75\", \"jpeg50\", \"jpeg25\", \"jpeg10\", \"Top-1 accuracy\", \"Top-5 accuracy\"], \"h2b_legend_1row\", figsize=(10, 3), ncol=8)"
   ]
  },
  {
   "cell_type": "code",
   "execution_count": 22,
   "id": "04704c85-5485-4aca-a053-c53c7f7b8fdb",
   "metadata": {
    "collapsed": true,
    "jupyter": {
     "outputs_hidden": true
    },
    "tags": []
   },
   "outputs": [
    {
     "name": "stdout",
     "output_type": "stream",
     "text": [
      "h2-time-inet-r50-jpeg10-hdd-62h\t73.80653\n",
      "h2-time-inet-r50-jpeg25-hdd-62h\t76.59647\n",
      "h2-time-inet-r50-jpeg50-hdd-62h\t76.97471\n",
      "h2-time-inet-r50-jpeg75-hdd-62h\t77.50445\n",
      "h2-time-inet-r50-jpeg85-hdd-62h\t76.36839\n",
      "h2-time-inet-r50-raw-hdd-62h\t74.27490\n"
     ]
    }
   ],
   "source": [
    "for exp in [exp for exp in sorted(experiments) if \"h2-time-inet-r50\" in exp and \"hdd-62h\" in exp]:\n",
    "    print(f\"{exp : <26}\\t{best_acc_1[exp]:.5f}\")"
   ]
  },
  {
   "cell_type": "code",
   "execution_count": 23,
   "id": "13903b40-194e-4924-ba43-29ccf41d539e",
   "metadata": {
    "collapsed": true,
    "jupyter": {
     "outputs_hidden": true
    },
    "tags": []
   },
   "outputs": [
    {
     "name": "stdout",
     "output_type": "stream",
     "text": [
      "h2-time-inet-alex-jpeg10-ssd-5h\t52.12420\n",
      "h2-time-inet-alex-jpeg25-ssd-5h\t53.40811\n",
      "h2-time-inet-alex-jpeg50-ssd-5h\t54.17819\n",
      "h2-time-inet-alex-jpeg75-ssd-5h\t54.04023\n",
      "h2-time-inet-alex-jpeg85-ssd-5h\t52.86819\n",
      "h2-time-inet-alex-raw-ssd-5h\t49.84217\n"
     ]
    }
   ],
   "source": [
    "for exp in [exp for exp in sorted(experiments) if \"h2-time-inet-alex\" in exp and \"ssd-5h\" in exp]:\n",
    "    print(f\"{exp : <26}\\t{best_acc_1[exp]:.5f}\")"
   ]
  },
  {
   "cell_type": "markdown",
   "id": "9f61f7f2-bb00-45bd-a6f4-10a88be372ec",
   "metadata": {},
   "source": [
    "### H2c: Storage limit experiments"
   ]
  },
  {
   "cell_type": "code",
   "execution_count": null,
   "id": "b4f68960-3e0d-453e-b293-578b7beb1f5f",
   "metadata": {},
   "outputs": [],
   "source": [
    "plot_space_experiment(\"inet-r50\", \"h2c_inet_r50\", figsize=(6, 5))\n",
    "\n",
    "plot_legend([\"subsample\", \"jpeg85\", \"jpeg75\", \"jpeg50\", \"jpeg25\", \"jpeg10\", \"Top-1 accuracy\", \"Top-5 accuracy\"], \"h2c_legend_1row\", figsize=(10, 3), ncol=8)"
   ]
  },
  {
   "cell_type": "code",
   "execution_count": 24,
   "id": "3bea8014-fac3-4c7e-b219-204f4966de80",
   "metadata": {
    "collapsed": true,
    "jupyter": {
     "outputs_hidden": true
    },
    "tags": []
   },
   "outputs": [
    {
     "name": "stdout",
     "output_type": "stream",
     "text": [
      "h2-acc-inet-r50-jpeg10-mem\t73.47757\n",
      "h2-acc-inet-r50-jpeg25-mem\t75.32252\n",
      "h2-acc-inet-r50-jpeg50-mem\t75.57492\n",
      "h2-acc-inet-r50-jpeg75-mem\t76.07172\n",
      "h2-acc-inet-r50-jpeg85-mem\t76.78486\n",
      "h2-space-inet-r50-raw10-mem\t44.36858\n",
      "h2-space-inet-r50-raw20-mem\t59.13251\n",
      "h2-space-inet-r50-raw30-mem\t63.91065\n",
      "h2-space-inet-r50-raw40-mem\t68.55855\n",
      "h2-space-inet-r50-raw50-mem\t70.82059\n"
     ]
    }
   ],
   "source": [
    "for exp in [exp for exp in sorted(experiments) if \"h2-space-inet-r50-raw\" in exp or \"h2-acc-inet-r50-jpeg\" in exp]:\n",
    "    print(f\"{exp}\\t{best_acc_1[exp]:.5f}\")"
   ]
  },
  {
   "cell_type": "markdown",
   "id": "e62c109a-af94-479e-b5a2-e47cbd8e80b1",
   "metadata": {
    "tags": []
   },
   "source": [
    "## H3: Training Regimens"
   ]
  },
  {
   "cell_type": "code",
   "execution_count": null,
   "id": "ef17982c-0498-4049-a85e-e1bd9443a140",
   "metadata": {},
   "outputs": [],
   "source": [
    "plot_regimen_experiment(\n",
    "    [exp for exp in experiments if \"h3\" in exp and \"45\" in exp.split(\"-\")[3].split(\":\")[1]],\n",
    "    [\"h2-acc-inet-r50-jpeg10-mem\", \"h2-acc-inet-r50-jpeg25-mem\", \"h2-acc-inet-r50-jpeg50-mem\", \"h2-acc-inet-r50-jpeg75-mem\", \"h2-acc-inet-r50-jpeg85-mem\", \"h2-acc-inet-r50-raw-mem\"],\n",
    "    \"h3_simple\",\n",
    "    figsize=(12, 5.85),\n",
    "    legend_loc=\"lower right\",\n",
    "    zoom_min=71,\n",
    "    zoom_max=77\n",
    ")\n",
    "plot_regimen_experiment(\n",
    "    [exp for exp in experiments if \"h3\" in exp and \"80\" in exp.split(\"-\")[3].split(\":\")[1]],\n",
    "    [\"h2-acc-inet-r50-jpeg10-mem\", \"h2-acc-inet-r50-jpeg25-mem\", \"h2-acc-inet-r50-jpeg50-mem\", \"h2-acc-inet-r50-jpeg75-mem\", \"h2-acc-inet-r50-jpeg85-mem\", \"h2-acc-inet-r50-raw-mem\"],\n",
    "    \"h3_transfer_learning\",\n",
    "    figsize=(12, 5.85),\n",
    "    legend_loc=\"lower right\",\n",
    "    zoom_min=71,\n",
    "    zoom_max=77\n",
    ")\n",
    "\n",
    "plot_legend([\"b_raw\", \"b_jpeg85\", \"b_jpeg75\", \"b_jpeg50\", \"b_jpeg25\", \"b_jpeg10\"], \"h3_legend_1row\", figsize=(10, 3), ncol=6)"
   ]
  },
  {
   "cell_type": "code",
   "execution_count": 25,
   "id": "5a4c41d9-9c41-436e-8d70-c2f9c5dd53b3",
   "metadata": {
    "collapsed": true,
    "jupyter": {
     "outputs_hidden": true
    },
    "tags": []
   },
   "outputs": [
    {
     "name": "stdout",
     "output_type": "stream",
     "text": [
      "h3-inet-r50-10:45_raw:45-mem\t75.94048\n",
      "h3-inet-r50-75:45_raw:45-mem\t76.33648\n",
      "h3-inet-r50-50:45_raw:45-mem\t76.22848\n",
      "h3-inet-r50-25:45_raw:45-mem\t75.95448\n"
     ]
    }
   ],
   "source": [
    "for exp in [exp for exp in experiments if \"h3\" in exp and \"45\" in exp.split(\"-\")[3].split(\":\")[1]]:\n",
    "    print(f\"{exp}\\t{best_acc_1[exp]:.5f}\")"
   ]
  },
  {
   "cell_type": "markdown",
   "id": "17fc4b43-fc67-45d7-af20-6142d0081569",
   "metadata": {
    "tags": []
   },
   "source": [
    "## H4: Orthogonality Analysis"
   ]
  },
  {
   "cell_type": "code",
   "execution_count": null,
   "id": "047d7b9e-e75f-4ffc-8f53-f22804a02288",
   "metadata": {},
   "outputs": [],
   "source": [
    "plot_orthogonality_experiment(\n",
    "    [\"h4-inet-r50-hdd\", \"h4-inet-r18-hdd\", \"h4-inet-alex-hdd\", \"h4-inet-alex-ssd\"],\n",
    "    [\"ResNet50 (HDD)\", \"ResNet18 (HDD)\", \"AlexNet (HDD)\", \"AlexNet (SSD)\"],\n",
    "    \"h4_orthogonality\",\n",
    "    figsize=(16, 6)\n",
    ")"
   ]
  },
  {
   "cell_type": "markdown",
   "id": "e4ddb15f-5bdb-453b-bcc2-2f5cd36255bc",
   "metadata": {},
   "source": [
    "## H5: Learned Compression\n",
    "\n",
    "See `learned_compression.ipynb`."
   ]
  },
  {
   "cell_type": "markdown",
   "id": "ea73a571-c2ee-43c6-a32a-e47d2a66457f",
   "metadata": {},
   "source": [
    "## Labels"
   ]
  },
  {
   "cell_type": "code",
   "execution_count": null,
   "id": "68e0ecab-1804-40db-b079-ad0e5e2ee419",
   "metadata": {},
   "outputs": [],
   "source": [
    "plot_throughput_comparison([exp for exp in sorted(experiments) if \"h1-r50-raw\" in exp and \"w12\" not in exp], \"label_throughput_h1\", figsize=(9, 4.5), width=0.85, ylim_max=5500, print_ylabel=True)\n",
    "plot_acc_experiment_zoom([exp for exp in sorted(experiments) if \"h2-acc-inet-r50-raw\" in exp or \"h2-acc-inet-r50-jpeg\" in exp], \"label_top1_h2a\", figsize=(7.2, 4.5), print_ylabel=True)\n",
    "plot_time_experiment([exp for exp in sorted(experiments) if \"h2-time-inet-r50\" in exp and \"hdd-10h\" in exp], \"label_acc_h2b\", 10, figsize=(6.5, 4.7), print_ylabel=True)\n",
    "plot_space_experiment(\"inet-r50\", \"label_acc_h2c\", figsize=(6, 5), print_ylabel=True)\n",
    "plot_regimen_experiment(\n",
    "    [exp for exp in experiments if \"h3\" in exp and \"45\" in exp.split(\"-\")[3].split(\":\")[1]],\n",
    "    [\"h2-acc-inet-r50-jpeg10-mem\", \"h2-acc-inet-r50-jpeg25-mem\", \"h2-acc-inet-r50-jpeg50-mem\", \"h2-acc-inet-r50-jpeg75-mem\", \"h2-acc-inet-r50-jpeg85-mem\", \"h2-acc-inet-r50-raw-mem\"],\n",
    "    \"label_top1_h3\",\n",
    "    figsize=(12, 5.85),\n",
    "    print_ylabel=True\n",
    ")"
   ]
  }
 ],
 "metadata": {
  "kernelspec": {
   "display_name": "Python 3.10.6 ('venv': venv)",
   "language": "python",
   "name": "python3"
  },
  "language_info": {
   "codemirror_mode": {
    "name": "ipython",
    "version": 3
   },
   "file_extension": ".py",
   "mimetype": "text/x-python",
   "name": "python",
   "nbconvert_exporter": "python",
   "pygments_lexer": "ipython3",
   "version": "3.10.6"
  },
  "vscode": {
   "interpreter": {
    "hash": "0c4170fcbb6a1c7a2e69f206d7305fe516dd16373cb0228faa943b8d792176cb"
   }
  }
 },
 "nbformat": 4,
 "nbformat_minor": 5
}
