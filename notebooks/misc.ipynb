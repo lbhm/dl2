{
 "cells": [
  {
   "cell_type": "code",
   "execution_count": null,
   "id": "5fe10a4b-b6f5-4c29-b023-daca5a0ab225",
   "metadata": {},
   "outputs": [],
   "source": [
    "import glob\n",
    "import json\n",
    "import os\n",
    "\n",
    "import matplotlib.pyplot as plt\n",
    "import numpy as np\n",
    "import pandas as pd\n",
    "\n",
    "from plotting import autolabel_bars, latexify, SNS_COLORS"
   ]
  },
  {
   "cell_type": "code",
   "execution_count": null,
   "id": "1a8eb3a0-ac45-41c2-9acf-34860fa022b1",
   "metadata": {},
   "outputs": [],
   "source": [
    "experiments = []\n",
    "data = {}"
   ]
  },
  {
   "cell_type": "markdown",
   "id": "2d154085-f83d-44bc-9935-e8cde1716715",
   "metadata": {},
   "source": [
    "**Only execute one cell of the following two.**"
   ]
  },
  {
   "cell_type": "code",
   "execution_count": null,
   "id": "e73e81a8-88ea-4108-82db-fc9c2d2ea597",
   "metadata": {},
   "outputs": [],
   "source": [
    "DEBUG = True"
   ]
  },
  {
   "cell_type": "code",
   "execution_count": null,
   "id": "d47a8227-b524-4af6-8651-fd91f14cc350",
   "metadata": {},
   "outputs": [],
   "source": [
    "DEBUG = False\n",
    "latexify(base_size=10)"
   ]
  },
  {
   "cell_type": "markdown",
   "id": "7591deba-ee9c-472a-b32f-612eac59dbcf",
   "metadata": {},
   "source": [
    "# Compression Quality"
   ]
  },
  {
   "cell_type": "code",
   "execution_count": null,
   "id": "9932e65a-012e-4d0b-902d-c59141fb307b",
   "metadata": {},
   "outputs": [],
   "source": [
    "inet = pd.read_csv(\"../logs/misc/inet_quality.csv\")\n",
    "p365 = pd.read_csv(\"../logs/misc/p365_quality.csv\")"
   ]
  },
  {
   "cell_type": "code",
   "execution_count": null,
   "id": "ece5412d-2dda-41a6-83e8-eef950547459",
   "metadata": {},
   "outputs": [],
   "source": [
    "def plot_quality_hist(data, filename, tight_layout=True, figsize=(9,6.5), legend_loc=None, logy=False):\n",
    "    fig, ax = plt.subplots(1, 1, figsize=(figsize[0]/2.54, figsize[1]/2.54))\n",
    "\n",
    "    bins = np.linspace(1, 100, 100)\n",
    "    _ = ax.hist(data[0], bins=bins, alpha=1, label=\"ImageNet\", zorder=1, color=SNS_COLORS[0], linewidth=0.5)\n",
    "    _ = ax.hist(data[1], bins=bins, alpha=0.9, label=\"Places365\", zorder=2, color=SNS_COLORS[1], linewidth=0.5)\n",
    "    \n",
    "    if legend_loc:\n",
    "        ax.legend(loc=legend_loc)\n",
    "    ax.set_xlabel(\"Compression quality factor\")\n",
    "    ax.set_xlim((1, 100))\n",
    "    ax.set_xticks([1, 20, 40, 60, 80, 100])\n",
    "    \n",
    "    if logy:\n",
    "        ax.set_yscale(\"log\")\n",
    "        ax.set_ylabel(\"Frequency (log)\")\n",
    "    else:\n",
    "        if tight_layout:\n",
    "            # tight_layout() must be called to update the offset text\n",
    "            plt.tight_layout(pad=1.02)\n",
    "        ax.yaxis.offsetText.set_visible(False)\n",
    "        ax.set_ylabel(f\"Frequency ({ax.yaxis.get_major_formatter().get_offset()})\")\n",
    "\n",
    "    if tight_layout:\n",
    "        plt.tight_layout(pad=1.02)\n",
    "    if DEBUG:\n",
    "        ax.set_title(filename)\n",
    "        plt.show()\n",
    "    else:\n",
    "        plt.savefig(f\"../plots/{filename}.pdf\", format=\"pdf\", bbox_inches=\"tight\", pad_inches=0.05)\n",
    "        plt.close()"
   ]
  },
  {
   "cell_type": "code",
   "execution_count": null,
   "id": "2b078740-0134-4ca8-915c-ed82a4c82adb",
   "metadata": {},
   "outputs": [],
   "source": [
    "plot_quality_hist([inet.quality, p365.quality], \"misc_quality_hist_lin\", figsize=(7.2, 4.5), legend_loc=\"upper left\")\n",
    "plot_quality_hist([inet.quality, p365.quality], \"misc_quality_hist_log\", figsize=(7.2, 4.5), logy=True)"
   ]
  },
  {
   "cell_type": "markdown",
   "id": "f2e68c10-4822-49b1-9959-c2be76ebe230",
   "metadata": {},
   "source": [
    "# Thrashing"
   ]
  },
  {
   "cell_type": "code",
   "execution_count": null,
   "id": "af9d9c93-f7eb-4126-b8e8-003bdefde2a0",
   "metadata": {},
   "outputs": [],
   "source": [
    "thrashing_exp_paths = glob.glob(\"../logs/misc/io*\")\n",
    "N_IMAGENET = 1331167  # train and val set"
   ]
  },
  {
   "cell_type": "code",
   "execution_count": null,
   "id": "80a88bbf-2901-46ce-80c5-8f6fe13bd7f4",
   "metadata": {},
   "outputs": [],
   "source": [
    "def parse_trashing_report(file):\n",
    "    data = []\n",
    "    \n",
    "    with open(file, \"r\") as f:\n",
    "        raw_data = f.readlines()\n",
    "    \n",
    "    for line in raw_data:\n",
    "        parsed_line = json.loads(line[5:-1])\n",
    "            \n",
    "        if parsed_line[\"type\"] == \"LOG\":\n",
    "            if parsed_line[\"step\"][0] == \"E\" and \"e.total_time\" in parsed_line[\"data\"].keys():\n",
    "                data.append((parsed_line[\"step\"][1] + 1, parsed_line[\"datetime\"], float(parsed_line[\"data\"][\"e.total_time\"][:-1])))\n",
    "            elif parsed_line[\"step\"][0] == \"P\":\n",
    "                data.append((0, parsed_line[\"datetime\"], 0))\n",
    "            \n",
    "    df =  pd.DataFrame(data, columns=[\"epoch\", \"end_time\", \"epoch_duration\"])\n",
    "    df[\"end_time\"] = df.end_time.astype(\"datetime64[s]\")\n",
    "    df[\"throughput\"] = N_IMAGENET / df[\"epoch_duration\"]\n",
    "    return df"
   ]
  },
  {
   "cell_type": "code",
   "execution_count": null,
   "id": "cd714031-e7d4-4ca4-a8b7-615f014d633b",
   "metadata": {},
   "outputs": [],
   "source": [
    "def parse_iostat(file, epochs):\n",
    "    with open(file, \"r\") as f:\n",
    "        json_data = json.load(f)\n",
    "        \n",
    "    df = pd.json_normalize(json_data[\"sysstat\"][\"hosts\"][0][\"statistics\"], \"disk\", [\"timestamp\", [\"avg-cpu\", \"iowait\"]])\n",
    "    df = df[[\"timestamp\", \"disk_device\", \"tps\", \"kB_read\", \"kB_wrtn\", \"avg-cpu.iowait\"]]\n",
    "    df = df.rename(columns={\"avg-cpu.iowait\": \"cpu_iowait\"})\n",
    "    df = df.astype({\"timestamp\": \"datetime64[s]\", \"tps\": \"float64\", \"kB_read\": \"float64\", \"kB_wrtn\": \"float64\", \"cpu_iowait\": \"float64\"})\n",
    "    df[\"epoch\"] = pd.cut(df.timestamp, epochs.end_time, right=True, labels=epochs.epoch[1:])\n",
    "    return df"
   ]
  },
  {
   "cell_type": "code",
   "execution_count": null,
   "id": "39ed45b0-e55a-41c8-9ba6-e67700ac7dde",
   "metadata": {},
   "outputs": [],
   "source": [
    "def parse_meminfo(file):\n",
    "    df = pd.read_csv(file, sep=\"\\s+\", header=None, index_col=0, usecols=[0, 1], converters={0: lambda x: x[:-1]})\n",
    "    return df.loc[\"Cached\", 1]"
   ]
  },
  {
   "cell_type": "code",
   "execution_count": null,
   "id": "1bacfc4a-4b67-48d8-b650-f13f36b6e2bb",
   "metadata": {},
   "outputs": [],
   "source": [
    "for path in thrashing_exp_paths:\n",
    "    exp = path.split(\"/\")[-1]\n",
    "    experiments.append(exp)\n",
    "    data[exp] = {}\n",
    "    \n",
    "    data[exp][\"report\"] = parse_trashing_report(os.path.join(path, \"experiment_report.json\"))\n",
    "    data[exp][\"iostat\"] = parse_iostat(os.path.join(path, \"iostat.json\"), data[exp][\"report\"])\n",
    "    data[exp][\"page_cache_kB\"] = parse_meminfo(os.path.join(path, \"meminfo.txt\"))\n",
    "    data[exp][\"avg_epochtime\"] = data[exp][\"report\"][\"epoch_duration\"][1:].mean()"
   ]
  },
  {
   "cell_type": "code",
   "execution_count": null,
   "id": "2966b9ef-8f85-4132-92b9-07ec7afbb479",
   "metadata": {},
   "outputs": [],
   "source": [
    "def plot_thrashing_comparison(exps, filename, tight_layout=True, figsize=(15,10), legend_loc=None, print_ylabel=False):\n",
    "    labels = []\n",
    "    disk_read = []\n",
    "    cached = []\n",
    "    \n",
    "    for exp in exps:\n",
    "        labels.append(int(exp.split(\"-\")[1][:-1]))\n",
    "        disk_read.append(data[exp][\"iostat\"].groupby(\"epoch\").agg({\"kB_read\": \"sum\"})[\"kB_read\"][1:].mean() / 1024**2)\n",
    "        cached.append(data[exp][\"page_cache_kB\"] / 1024**2 - 1)  # we substract one GiB for files cached by the OS\n",
    "        \n",
    "    fig, ax = plt.subplots(1, 1, figsize=(figsize[0]/2.54, figsize[1]/2.54))\n",
    "    bars = []\n",
    "    width = 7.5\n",
    "    \n",
    "    ax.bar(labels, disk_read, label=\"Disk IO\", width=width, color=SNS_COLORS[0])\n",
    "    bars += ax.bar(labels, cached, label=\"Page cache size\", bottom=disk_read, width=width, color=SNS_COLORS[1])\n",
    "    \n",
    "    ax.axhline(152660528 / 1024**2, color=\"gray\", linestyle=\"--\", alpha=0.8)\n",
    "\n",
    "    if legend_loc:\n",
    "        ax.legend(loc=legend_loc, ncol=2)\n",
    "    ax.set_xlabel(\"Main memory limit (GiB)\")\n",
    "    ax.set_xticks(ticks=labels)\n",
    "    if print_ylabel:\n",
    "        ax.set_ylabel(\"GiB\")\n",
    "    ax.set_ylim(0, 340)\n",
    "\n",
    "    autolabel_bars(ax, bars, precision=0, offsets=disk_read)\n",
    "\n",
    "    if tight_layout:\n",
    "        plt.tight_layout(pad=1.02)\n",
    "\n",
    "    if DEBUG:\n",
    "        plt.show()\n",
    "    else:\n",
    "        plt.savefig(f\"../plots/{filename}.pdf\", format=\"pdf\", bbox_inches=\"tight\", pad_inches=0.05)\n",
    "        plt.close()"
   ]
  },
  {
   "cell_type": "code",
   "execution_count": null,
   "id": "8499202e-9cac-498d-8106-99607e8efe42",
   "metadata": {},
   "outputs": [],
   "source": [
    "plot_thrashing_comparison([exp for exp in sorted(experiments) if \"pytorch\" in exp], \"misc_trashing_pytorch\", figsize=(7.2, 4.5), legend_loc=\"upper center\")\n",
    "plot_thrashing_comparison([exp for exp in sorted(experiments) if \"dali\" in exp], \"misc_trashing_dali\", figsize=(7.2, 4.5))\n",
    "\n",
    "plot_thrashing_comparison([exp for exp in sorted(experiments) if \"pytorch\" in exp], \"label_gib\", figsize=(7.2, 4.5), legend_loc=\"upper center\", print_ylabel=True)"
   ]
  },
  {
   "cell_type": "markdown",
   "id": "de5fd374-f252-47c7-80d3-82eedfb11af7",
   "metadata": {},
   "source": [
    "# Average Epoch Times"
   ]
  },
  {
   "cell_type": "code",
   "execution_count": null,
   "id": "f05416bc-b56a-4ea3-a133-503fd88213f5",
   "metadata": {},
   "outputs": [],
   "source": [
    "epoch_time_files = glob.glob(\"../logs/misc/*alex*/*.json\") + glob.glob(\"../logs/misc/*r18*/*.json\") + glob.glob(\"../logs/misc/*r50*/*.json\")"
   ]
  },
  {
   "cell_type": "code",
   "execution_count": null,
   "id": "51a03801-03c2-4a4f-8bc6-e70441a8501d",
   "metadata": {},
   "outputs": [],
   "source": [
    "def parse_epoch_time_report(file):\n",
    "    data = []\n",
    "    \n",
    "    with open(file, \"r\") as f:\n",
    "        raw_data = f.readlines()\n",
    "    \n",
    "    for line in raw_data:\n",
    "        parsed_line = json.loads(line[5:-1])\n",
    "            \n",
    "        if parsed_line[\"type\"] == \"LOG\" and parsed_line[\"step\"][0] == \"E\" and \"e.total_time\" in parsed_line[\"data\"].keys():\n",
    "            data.append((parsed_line[\"step\"][1] + 1, float(parsed_line[\"data\"][\"e.total_time\"][:-1])))\n",
    "            \n",
    "    df =  pd.DataFrame(data, columns=[\"epoch\", \"epoch_duration\"])\n",
    "    return df"
   ]
  },
  {
   "cell_type": "code",
   "execution_count": null,
   "id": "6798788b-f956-4797-a671-041b14fcdce5",
   "metadata": {},
   "outputs": [],
   "source": [
    "for file in epoch_time_files:\n",
    "    exp = file.split(\"/\")[-2]\n",
    "    experiments.append(exp)\n",
    "    data[exp] = {}\n",
    "    \n",
    "    data[exp][\"report\"] = parse_epoch_time_report(file)\n",
    "    data[exp][\"avg_epochtime\"] = data[exp][\"report\"][\"epoch_duration\"][1:].mean()"
   ]
  },
  {
   "cell_type": "code",
   "execution_count": null,
   "id": "e8f4c37d-b79a-4c7c-b33f-c65787ccec9f",
   "metadata": {},
   "outputs": [
    {
     "name": "stdout",
     "output_type": "stream",
     "text": [
      "inet-r50-raw-hdd-w40    \tavg: 6623.00\tstd: 153.82\n",
      "inet-r50-jpeg85-hdd-w40    \tavg: 2367.19\tstd: 840.64\n",
      "inet-r50-jpeg75-hdd-w40    \tavg: 1251.41\tstd: 0.15\n",
      "inet-r50-jpeg50-hdd-w40    \tavg: 1249.98\tstd: 1.73\n",
      "inet-r50-jpeg25-hdd-w40    \tavg: 1248.39\tstd: 0.33\n",
      "inet-r50-jpeg10-hdd-w40    \tavg: 1248.12\tstd: 0.30\n"
     ]
    }
   ],
   "source": [
    "for exp in sorted([exp for exp in experiments if \"hdd\" in exp and \"r50\" in exp], reverse=True):\n",
    "    print(f\"{exp}    \\tavg: {data[exp]['avg_epochtime']:.2f}\\tstd: {data[exp]['report']['epoch_duration'][1:].std():.2f}\")"
   ]
  },
  {
   "cell_type": "code",
   "execution_count": null,
   "id": "d7ec33aa-aa83-47c0-b56c-145490ae620d",
   "metadata": {},
   "outputs": [
    {
     "name": "stdout",
     "output_type": "stream",
     "text": [
      "inet-r18-raw-hdd-w40    \tavg: 6552.41\tstd: 44.71\n",
      "inet-r18-jpeg85-hdd-w40    \tavg: 2977.61\tstd: 128.18\n",
      "inet-r18-jpeg75-hdd-w40    \tavg: 451.60\tstd: 0.31\n",
      "inet-r18-jpeg50-hdd-w40    \tavg: 448.77\tstd: 0.78\n",
      "inet-r18-jpeg25-hdd-w40    \tavg: 449.31\tstd: 0.65\n",
      "inet-r18-jpeg10-hdd-w40    \tavg: 447.73\tstd: 0.50\n"
     ]
    }
   ],
   "source": [
    "for exp in sorted([exp for exp in experiments if \"hdd\" in exp and \"r18\" in exp], reverse=True):\n",
    "    print(f\"{exp}    \\tavg: {data[exp]['avg_epochtime']:.2f}\\tstd: {data[exp]['report']['epoch_duration'][1:].std():.2f}\")"
   ]
  },
  {
   "cell_type": "code",
   "execution_count": null,
   "id": "589b79a6-6b55-4abb-9f7a-d92239ab943f",
   "metadata": {},
   "outputs": [
    {
     "name": "stdout",
     "output_type": "stream",
     "text": [
      "inet-alex-raw-hdd-w40    \tavg: 6580.00\tstd: 99.10\n",
      "inet-alex-jpeg85-hdd-w40    \tavg: 2406.25\tstd: 941.45\n",
      "inet-alex-jpeg75-hdd-w40    \tavg: 214.64\tstd: 0.81\n",
      "inet-alex-jpeg50-hdd-w40    \tavg: 200.19\tstd: 1.19\n",
      "inet-alex-jpeg25-hdd-w40    \tavg: 192.00\tstd: 0.29\n",
      "inet-alex-jpeg10-hdd-w40    \tavg: 184.91\tstd: 0.59\n"
     ]
    }
   ],
   "source": [
    "for exp in sorted([exp for exp in experiments if \"hdd\" in exp and \"alex\" in exp], reverse=True):\n",
    "    print(f\"{exp}    \\tavg: {data[exp]['avg_epochtime']:.2f}\\tstd: {data[exp]['report']['epoch_duration'][1:].std():.2f}\")"
   ]
  },
  {
   "cell_type": "code",
   "execution_count": null,
   "id": "d8822d04-f5e3-48d2-ad89-3649d08a9544",
   "metadata": {},
   "outputs": [
    {
     "name": "stdout",
     "output_type": "stream",
     "text": [
      "inet-alex-raw-ssd-w40    \tavg: 515.88\tstd: 2.57\n",
      "inet-alex-jpeg85-ssd-w40    \tavg: 265.22\tstd: 1.46\n",
      "inet-alex-jpeg75-ssd-w40    \tavg: 214.46\tstd: 0.64\n",
      "inet-alex-jpeg50-ssd-w40    \tavg: 201.16\tstd: 0.81\n",
      "inet-alex-jpeg25-ssd-w40    \tavg: 190.10\tstd: 0.61\n",
      "inet-alex-jpeg10-ssd-w40    \tavg: 185.91\tstd: 0.68\n"
     ]
    }
   ],
   "source": [
    "for exp in sorted([exp for exp in experiments if \"ssd\" in exp], reverse=True):\n",
    "    print(f\"{exp}    \\tavg: {data[exp]['avg_epochtime']:.2f}\\tstd: {data[exp]['report']['epoch_duration'][1:].std():.2f}\")"
   ]
  },
  {
   "cell_type": "markdown",
   "id": "40ea5a56-9f9a-4ef2-a1b2-daa23e4f52b5",
   "metadata": {},
   "source": [
    "### Aggregate avg epoch time for 'raw' and 'jpeg-85'"
   ]
  },
  {
   "cell_type": "code",
   "execution_count": null,
   "id": "7db18952-0566-4216-8a2d-396f6e41d236",
   "metadata": {},
   "outputs": [
    {
     "name": "stdout",
     "output_type": "stream",
     "text": [
      "raw\tavg: 6585.14\tstd: 105.08\n",
      "jpeg85\tavg: 2583.68\tstd: 737.05\n"
     ]
    }
   ],
   "source": [
    "for d in [\"raw\", \"jpeg85\"]:\n",
    "    raw_avg_epochtime = pd.Series(dtype=\"float64\")\n",
    "    for exp in sorted([exp for exp in experiments if \"hdd\" in exp and d in exp], reverse=True):\n",
    "        raw_avg_epochtime = pd.concat([raw_avg_epochtime, data[exp]['report']['epoch_duration'][1:]])\n",
    "\n",
    "    print(f\"{d}\\tavg: {raw_avg_epochtime.mean():.2f}\\tstd: {raw_avg_epochtime.std():.2f}\")"
   ]
  },
  {
   "cell_type": "markdown",
   "id": "85a0c97b-9e6e-495e-a06d-ed761dff54c3",
   "metadata": {},
   "source": [
    "# File Sizes"
   ]
  },
  {
   "cell_type": "code",
   "execution_count": null,
   "id": "2f01fc3d-1ab0-45c5-b442-39e41c2ca215",
   "metadata": {},
   "outputs": [],
   "source": [
    "file_sizes = {}\n",
    "file_sizes[\"raw\"] = pd.read_csv(\"../logs/misc/inet_filesize_raw.csv\")\n",
    "file_sizes[\"jpeg75\"] = pd.read_csv(\"../logs/misc/inet_filesize_jpeg75.csv\")\n",
    "file_sizes[\"jpeg10\"] = pd.read_csv(\"../logs/misc/inet_filesize_jpeg10.csv\")\n",
    "\n",
    "file_sizes[\"merged\"] = pd.merge(file_sizes[\"raw\"], file_sizes[\"jpeg75\"], on=\"file\", suffixes=(\"_raw\", \"_jpeg75\"))\n",
    "file_sizes[\"merged\"] = pd.merge(file_sizes[\"merged\"], file_sizes[\"jpeg10\"], on=\"file\")\n",
    "file_sizes[\"merged\"].columns = [\"file\", \"raw\", \"jpeg75\", \"jpeg10\"]\n",
    "file_sizes[\"merged\"].iloc[:,1:] = file_sizes[\"merged\"].iloc[:,1:] / 1024"
   ]
  },
  {
   "cell_type": "code",
   "execution_count": null,
   "id": "008e5207-aa0e-4c70-afe0-a315a19a47b4",
   "metadata": {},
   "outputs": [],
   "source": [
    "fig, ax = plt.subplots(1, 1, figsize=(6, 6))\n",
    "file_sizes[\"merged\"].hist(log=True, sharex=True, layout=(3, 1), ax=ax, bins=30)\n",
    "\n",
    "fig.suptitle(\"ImageNet File Size Distribution at Different Compression Qualities\")\n",
    "fig.supxlabel(\"File size (kB)\")\n",
    "fig.supylabel(\"Image frequency\")\n",
    "\n",
    "plt.tight_layout()\n",
    "\n",
    "if DEBUG:\n",
    "    plt.show()\n",
    "else:\n",
    "    plt.savefig(f\"../plots/misc_inet_filesize.pdf\", format=\"pdf\")\n",
    "    plt.close()"
   ]
  },
  {
   "cell_type": "markdown",
   "id": "2eca9e2a",
   "metadata": {},
   "source": [
    "### Average ImageNet Filze Sizes"
   ]
  },
  {
   "cell_type": "code",
   "execution_count": null,
   "id": "7f8ad314-0dda-4f40-b740-ec1b8b7aa52c",
   "metadata": {},
   "outputs": [
    {
     "data": {
      "text/plain": [
       "0.11004565844011376"
      ]
     },
     "execution_count": 20,
     "metadata": {},
     "output_type": "execute_result"
    }
   ],
   "source": [
    "file_sizes[\"merged\"][\"raw\"].mean() / 1024"
   ]
  },
  {
   "cell_type": "code",
   "execution_count": null,
   "id": "dbfb1881-a39d-455b-b4c7-183bc45a95d0",
   "metadata": {},
   "outputs": [
    {
     "data": {
      "text/plain": [
       "0.037491086187955346"
      ]
     },
     "execution_count": 21,
     "metadata": {},
     "output_type": "execute_result"
    }
   ],
   "source": [
    "file_sizes[\"merged\"][\"jpeg75\"].mean() / 1024"
   ]
  },
  {
   "cell_type": "code",
   "execution_count": null,
   "id": "ad9954d4-91cd-432f-be29-54499f6dad87",
   "metadata": {},
   "outputs": [
    {
     "data": {
      "text/plain": [
       "0.00919048907992298"
      ]
     },
     "execution_count": 22,
     "metadata": {},
     "output_type": "execute_result"
    }
   ],
   "source": [
    "file_sizes[\"merged\"][\"jpeg10\"].mean() / 1024"
   ]
  }
 ],
 "metadata": {},
 "nbformat": 4,
 "nbformat_minor": 5
}
